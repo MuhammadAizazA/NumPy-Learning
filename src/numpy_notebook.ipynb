{
 "cells": [
  {
   "cell_type": "markdown",
   "metadata": {},
   "source": [
    "<h2>Curving Test Grades</h2>\n"
   ]
  },
  {
   "cell_type": "code",
   "execution_count": 183,
   "metadata": {},
   "outputs": [],
   "source": [
    "import numpy as np\n",
    "CURVE_CENTER = 80\n",
    "\n",
    "\n",
    "def curve(grades):\n",
    "    average = grades.mean()\n",
    "    change = CURVE_CENTER - average\n",
    "    new_grades = grades + change\n",
    "    return np.clip(new_grades, grades, 100)"
   ]
  },
  {
   "cell_type": "code",
   "execution_count": 184,
   "metadata": {},
   "outputs": [
    {
     "data": {
      "text/plain": [
       "array([ 91.25,  54.25,  83.25, 100.  ,  70.25, 100.  ,  93.25,  31.25])"
      ]
     },
     "execution_count": 184,
     "metadata": {},
     "output_type": "execute_result"
    }
   ],
   "source": [
    "\n",
    "grades = np.array([72, 35, 64, 88, 51, 90, 74, 12])\n",
    "curve(grades)"
   ]
  },
  {
   "cell_type": "markdown",
   "metadata": {},
   "source": [
    "<h2>Array Shapes and Axes</h2>\n"
   ]
  },
  {
   "cell_type": "markdown",
   "metadata": {},
   "source": [
    "Creating numpy array and reshaping it into 3 planes of 3 rows x 2 cols\n"
   ]
  },
  {
   "cell_type": "code",
   "execution_count": 185,
   "metadata": {},
   "outputs": [],
   "source": [
    "temperatures = np.array([\n",
    "    29.3, 42.1, 18.8, 16.1, 38.0, 12.5,\n",
    "    12.6, 49.9, 38.6, 31.3, 9.2, 22.2,\n",
    "    13.6, 46.4, 32.6, 11.3, 93.2, 25.2\n",
    "]).reshape(3, 3, 2)"
   ]
  },
  {
   "cell_type": "code",
   "execution_count": 186,
   "metadata": {},
   "outputs": [
    {
     "name": "stdout",
     "output_type": "stream",
     "text": [
      "(3, 3, 2)\n"
     ]
    }
   ],
   "source": [
    "print(temperatures.shape)"
   ]
  },
  {
   "cell_type": "code",
   "execution_count": 187,
   "metadata": {},
   "outputs": [
    {
     "name": "stdout",
     "output_type": "stream",
     "text": [
      "[[[29.3 42.1]\n",
      "  [18.8 16.1]\n",
      "  [38.  12.5]]\n",
      "\n",
      " [[12.6 49.9]\n",
      "  [38.6 31.3]\n",
      "  [ 9.2 22.2]]\n",
      "\n",
      " [[13.6 46.4]\n",
      "  [32.6 11.3]\n",
      "  [93.2 25.2]]]\n"
     ]
    }
   ],
   "source": [
    "print(temperatures)"
   ]
  },
  {
   "cell_type": "code",
   "execution_count": 188,
   "metadata": {},
   "outputs": [
    {
     "data": {
      "text/plain": [
       "array([[[29.3, 18.8, 38. ],\n",
       "        [42.1, 16.1, 12.5]],\n",
       "\n",
       "       [[12.6, 38.6,  9.2],\n",
       "        [49.9, 31.3, 22.2]],\n",
       "\n",
       "       [[13.6, 32.6, 93.2],\n",
       "        [46.4, 11.3, 25.2]]])"
      ]
     },
     "execution_count": 188,
     "metadata": {},
     "output_type": "execute_result"
    }
   ],
   "source": [
    "np.swapaxes(temperatures, 1, 2)"
   ]
  },
  {
   "cell_type": "code",
   "execution_count": 189,
   "metadata": {},
   "outputs": [
    {
     "data": {
      "text/plain": [
       "array([[42.1, 18.8, 38. ],\n",
       "       [49.9, 38.6, 22.2],\n",
       "       [46.4, 32.6, 93.2]])"
      ]
     },
     "execution_count": 189,
     "metadata": {},
     "output_type": "execute_result"
    }
   ],
   "source": [
    "temperatures.max(axis=2)"
   ]
  },
  {
   "cell_type": "code",
   "execution_count": 190,
   "metadata": {},
   "outputs": [],
   "source": [
    "table = np.array([\n",
    "    [5, 3, 7, 1],\n",
    "    [2, 6, 7, 9],\n",
    "    [1, 1, 1, 1],\n",
    "    [4, 3, 2, 0],\n",
    "    [1, 3, 5, 9]\n",
    "])"
   ]
  },
  {
   "cell_type": "code",
   "execution_count": 191,
   "metadata": {},
   "outputs": [
    {
     "data": {
      "text/plain": [
       "9"
      ]
     },
     "execution_count": 191,
     "metadata": {},
     "output_type": "execute_result"
    }
   ],
   "source": [
    "table.max()"
   ]
  },
  {
   "cell_type": "code",
   "execution_count": 192,
   "metadata": {},
   "outputs": [
    {
     "data": {
      "text/plain": [
       "array([5, 6, 7, 9])"
      ]
     },
     "execution_count": 192,
     "metadata": {},
     "output_type": "execute_result"
    }
   ],
   "source": [
    "table.max(axis=0)"
   ]
  },
  {
   "cell_type": "code",
   "execution_count": 193,
   "metadata": {},
   "outputs": [
    {
     "data": {
      "text/plain": [
       "array([7, 9, 1, 4, 9])"
      ]
     },
     "execution_count": 193,
     "metadata": {},
     "output_type": "execute_result"
    }
   ],
   "source": [
    "table.max(axis=1)"
   ]
  },
  {
   "cell_type": "markdown",
   "metadata": {},
   "source": [
    "<h2>Broadcasting</h2>\n"
   ]
  },
  {
   "cell_type": "code",
   "execution_count": 194,
   "metadata": {},
   "outputs": [
    {
     "name": "stdout",
     "output_type": "stream",
     "text": [
      "3\n"
     ]
    }
   ],
   "source": [
    "A = np.arange(32).reshape(4, 1, 8)\n",
    "print(np.ndim(A))"
   ]
  },
  {
   "cell_type": "code",
   "execution_count": 195,
   "metadata": {},
   "outputs": [
    {
     "data": {
      "text/plain": [
       "array([[[ 0,  1,  2,  3,  4,  5,  6,  7]],\n",
       "\n",
       "       [[ 8,  9, 10, 11, 12, 13, 14, 15]],\n",
       "\n",
       "       [[16, 17, 18, 19, 20, 21, 22, 23]],\n",
       "\n",
       "       [[24, 25, 26, 27, 28, 29, 30, 31]]])"
      ]
     },
     "execution_count": 195,
     "metadata": {},
     "output_type": "execute_result"
    }
   ],
   "source": [
    "A"
   ]
  },
  {
   "cell_type": "code",
   "execution_count": 196,
   "metadata": {},
   "outputs": [],
   "source": [
    "B = np.arange(48).reshape(1, 6, 8)"
   ]
  },
  {
   "cell_type": "code",
   "execution_count": 197,
   "metadata": {},
   "outputs": [
    {
     "data": {
      "text/plain": [
       "array([[[ 0,  1,  2,  3,  4,  5,  6,  7]],\n",
       "\n",
       "       [[ 8,  9, 10, 11, 12, 13, 14, 15]],\n",
       "\n",
       "       [[16, 17, 18, 19, 20, 21, 22, 23]],\n",
       "\n",
       "       [[24, 25, 26, 27, 28, 29, 30, 31]]])"
      ]
     },
     "execution_count": 197,
     "metadata": {},
     "output_type": "execute_result"
    }
   ],
   "source": [
    "A"
   ]
  },
  {
   "cell_type": "code",
   "execution_count": 198,
   "metadata": {},
   "outputs": [
    {
     "data": {
      "text/plain": [
       "array([[[ 0,  1,  2,  3,  4,  5,  6,  7],\n",
       "        [ 8,  9, 10, 11, 12, 13, 14, 15],\n",
       "        [16, 17, 18, 19, 20, 21, 22, 23],\n",
       "        [24, 25, 26, 27, 28, 29, 30, 31],\n",
       "        [32, 33, 34, 35, 36, 37, 38, 39],\n",
       "        [40, 41, 42, 43, 44, 45, 46, 47]]])"
      ]
     },
     "execution_count": 198,
     "metadata": {},
     "output_type": "execute_result"
    }
   ],
   "source": [
    "B"
   ]
  },
  {
   "cell_type": "code",
   "execution_count": 199,
   "metadata": {},
   "outputs": [
    {
     "name": "stdout",
     "output_type": "stream",
     "text": [
      "(4, 1, 8)\n",
      "(1, 6, 8)\n"
     ]
    }
   ],
   "source": [
    "print(A.shape)\n",
    "print(B.shape)"
   ]
  },
  {
   "cell_type": "code",
   "execution_count": 200,
   "metadata": {},
   "outputs": [
    {
     "data": {
      "text/plain": [
       "array([[[ 0,  2,  4,  6,  8, 10, 12, 14],\n",
       "        [ 8, 10, 12, 14, 16, 18, 20, 22],\n",
       "        [16, 18, 20, 22, 24, 26, 28, 30],\n",
       "        [24, 26, 28, 30, 32, 34, 36, 38],\n",
       "        [32, 34, 36, 38, 40, 42, 44, 46],\n",
       "        [40, 42, 44, 46, 48, 50, 52, 54]],\n",
       "\n",
       "       [[ 8, 10, 12, 14, 16, 18, 20, 22],\n",
       "        [16, 18, 20, 22, 24, 26, 28, 30],\n",
       "        [24, 26, 28, 30, 32, 34, 36, 38],\n",
       "        [32, 34, 36, 38, 40, 42, 44, 46],\n",
       "        [40, 42, 44, 46, 48, 50, 52, 54],\n",
       "        [48, 50, 52, 54, 56, 58, 60, 62]],\n",
       "\n",
       "       [[16, 18, 20, 22, 24, 26, 28, 30],\n",
       "        [24, 26, 28, 30, 32, 34, 36, 38],\n",
       "        [32, 34, 36, 38, 40, 42, 44, 46],\n",
       "        [40, 42, 44, 46, 48, 50, 52, 54],\n",
       "        [48, 50, 52, 54, 56, 58, 60, 62],\n",
       "        [56, 58, 60, 62, 64, 66, 68, 70]],\n",
       "\n",
       "       [[24, 26, 28, 30, 32, 34, 36, 38],\n",
       "        [32, 34, 36, 38, 40, 42, 44, 46],\n",
       "        [40, 42, 44, 46, 48, 50, 52, 54],\n",
       "        [48, 50, 52, 54, 56, 58, 60, 62],\n",
       "        [56, 58, 60, 62, 64, 66, 68, 70],\n",
       "        [64, 66, 68, 70, 72, 74, 76, 78]]])"
      ]
     },
     "execution_count": 200,
     "metadata": {},
     "output_type": "execute_result"
    }
   ],
   "source": [
    "A+B"
   ]
  },
  {
   "cell_type": "markdown",
   "metadata": {},
   "source": [
    "<h2>Data Science Operations</h2>\n"
   ]
  },
  {
   "cell_type": "markdown",
   "metadata": {},
   "source": [
    "<h3>Indexing</h3>\n"
   ]
  },
  {
   "cell_type": "code",
   "execution_count": 201,
   "metadata": {},
   "outputs": [],
   "source": [
    "square = np.array([\n",
    "    [16, 3, 2, 13],\n",
    "    [5, 10, 11, 8],\n",
    "    [9, 6, 7, 12],\n",
    "    [4, 15, 14, 1]\n",
    "])"
   ]
  },
  {
   "cell_type": "code",
   "execution_count": 202,
   "metadata": {},
   "outputs": [],
   "source": [
    "for i in range(4):\n",
    "    assert square[:, i].sum() == 34\n",
    "    assert square[i, :].sum() == 34"
   ]
  },
  {
   "cell_type": "code",
   "execution_count": 203,
   "metadata": {},
   "outputs": [],
   "source": [
    "assert square[:2, :2].sum() == 34"
   ]
  },
  {
   "cell_type": "code",
   "execution_count": 204,
   "metadata": {},
   "outputs": [],
   "source": [
    "assert square[2:, :2].sum() == 34"
   ]
  },
  {
   "cell_type": "code",
   "execution_count": 205,
   "metadata": {},
   "outputs": [],
   "source": [
    "assert square[:2, 2:].sum() == 34"
   ]
  },
  {
   "cell_type": "code",
   "execution_count": 206,
   "metadata": {},
   "outputs": [
    {
     "data": {
      "text/plain": [
       "array([[16,  3,  2, 13],\n",
       "       [ 5, 10, 11,  8],\n",
       "       [ 9,  6,  7, 12],\n",
       "       [ 4, 15, 14,  1]])"
      ]
     },
     "execution_count": 206,
     "metadata": {},
     "output_type": "execute_result"
    }
   ],
   "source": [
    "square"
   ]
  },
  {
   "cell_type": "code",
   "execution_count": 207,
   "metadata": {},
   "outputs": [
    {
     "data": {
      "text/plain": [
       "array([[ 2, 13],\n",
       "       [11,  8],\n",
       "       [ 7, 12]])"
      ]
     },
     "execution_count": 207,
     "metadata": {},
     "output_type": "execute_result"
    }
   ],
   "source": [
    "square[:3, 2:]"
   ]
  },
  {
   "cell_type": "code",
   "execution_count": 208,
   "metadata": {},
   "outputs": [
    {
     "data": {
      "text/plain": [
       "array([[ 9,  6],\n",
       "       [ 4, 15]])"
      ]
     },
     "execution_count": 208,
     "metadata": {},
     "output_type": "execute_result"
    }
   ],
   "source": [
    "square[2:, :2]"
   ]
  },
  {
   "cell_type": "code",
   "execution_count": 209,
   "metadata": {},
   "outputs": [],
   "source": [
    "square_2 = np.array([\n",
    "    [16, 3, 2, 13, 10],\n",
    "    [5, 10, 11, 8, 19],\n",
    "    [9, 6, 7, 12, 17],\n",
    "    [4, 15, 14, 1, 74]\n",
    "])"
   ]
  },
  {
   "cell_type": "code",
   "execution_count": 210,
   "metadata": {},
   "outputs": [
    {
     "name": "stdout",
     "output_type": "stream",
     "text": [
      "[[10 11  8]\n",
      " [ 6  7 12]]\n"
     ]
    }
   ],
   "source": [
    "print(square_2[1:3, 1:4])"
   ]
  },
  {
   "cell_type": "code",
   "execution_count": 211,
   "metadata": {},
   "outputs": [
    {
     "name": "stdout",
     "output_type": "stream",
     "text": [
      "[[ 7 12]\n",
      " [14  1]]\n"
     ]
    }
   ],
   "source": [
    "print(square_2[2:, 2:4])"
   ]
  },
  {
   "cell_type": "markdown",
   "metadata": {},
   "source": [
    "<h3>Masking and Filtering</h3>\n"
   ]
  },
  {
   "cell_type": "code",
   "execution_count": 212,
   "metadata": {},
   "outputs": [],
   "source": [
    "numbers = np.linspace(6, 54, 24, dtype=int).reshape(-1, 4)"
   ]
  },
  {
   "cell_type": "code",
   "execution_count": 213,
   "metadata": {},
   "outputs": [
    {
     "data": {
      "text/plain": [
       "array([[ 6,  8, 10, 12],\n",
       "       [14, 16, 18, 20],\n",
       "       [22, 24, 26, 28],\n",
       "       [31, 33, 35, 37],\n",
       "       [39, 41, 43, 45],\n",
       "       [47, 49, 51, 54]])"
      ]
     },
     "execution_count": 213,
     "metadata": {},
     "output_type": "execute_result"
    }
   ],
   "source": [
    "numbers"
   ]
  },
  {
   "cell_type": "code",
   "execution_count": 214,
   "metadata": {},
   "outputs": [],
   "source": [
    "mask = numbers % 6 == 0"
   ]
  },
  {
   "cell_type": "code",
   "execution_count": 215,
   "metadata": {},
   "outputs": [
    {
     "data": {
      "text/plain": [
       "array([[ True, False, False,  True],\n",
       "       [False, False,  True, False],\n",
       "       [False,  True, False, False],\n",
       "       [False, False, False, False],\n",
       "       [False, False, False, False],\n",
       "       [False, False, False,  True]])"
      ]
     },
     "execution_count": 215,
     "metadata": {},
     "output_type": "execute_result"
    }
   ],
   "source": [
    "mask"
   ]
  },
  {
   "cell_type": "code",
   "execution_count": 216,
   "metadata": {},
   "outputs": [],
   "source": [
    "multiple_of_6 = numbers[mask]"
   ]
  },
  {
   "cell_type": "code",
   "execution_count": 217,
   "metadata": {},
   "outputs": [
    {
     "data": {
      "text/plain": [
       "array([ 6, 12, 18, 24, 54])"
      ]
     },
     "execution_count": 217,
     "metadata": {},
     "output_type": "execute_result"
    }
   ],
   "source": [
    "multiple_of_6"
   ]
  },
  {
   "cell_type": "markdown",
   "metadata": {},
   "source": [
    "## Transposing\n"
   ]
  },
  {
   "cell_type": "code",
   "execution_count": 218,
   "metadata": {},
   "outputs": [],
   "source": [
    "a = np.array([\n",
    "    [1, 2],\n",
    "    [3, 4],\n",
    "    [5, 6],\n",
    "])"
   ]
  },
  {
   "cell_type": "code",
   "execution_count": 219,
   "metadata": {},
   "outputs": [
    {
     "data": {
      "text/plain": [
       "array([[1, 3, 5],\n",
       "       [2, 4, 6]])"
      ]
     },
     "execution_count": 219,
     "metadata": {},
     "output_type": "execute_result"
    }
   ],
   "source": [
    "a.T"
   ]
  },
  {
   "cell_type": "markdown",
   "metadata": {},
   "source": [
    "## Concat\n"
   ]
  },
  {
   "cell_type": "code",
   "execution_count": 220,
   "metadata": {},
   "outputs": [],
   "source": [
    "a = np.array([\n",
    "    [4, 8],\n",
    "    [6, 1]\n",
    "])"
   ]
  },
  {
   "cell_type": "code",
   "execution_count": 221,
   "metadata": {},
   "outputs": [],
   "source": [
    "b = np.array([\n",
    "    [3, 5],\n",
    "    [7, 2],\n",
    "])"
   ]
  },
  {
   "cell_type": "code",
   "execution_count": 222,
   "metadata": {},
   "outputs": [
    {
     "data": {
      "text/plain": [
       "array([[4, 8, 3, 5],\n",
       "       [6, 1, 7, 2]])"
      ]
     },
     "execution_count": 222,
     "metadata": {},
     "output_type": "execute_result"
    }
   ],
   "source": [
    "np.hstack((a, b))"
   ]
  },
  {
   "cell_type": "code",
   "execution_count": 223,
   "metadata": {},
   "outputs": [
    {
     "data": {
      "text/plain": [
       "array([[3, 5],\n",
       "       [7, 2],\n",
       "       [4, 8],\n",
       "       [6, 1]])"
      ]
     },
     "execution_count": 223,
     "metadata": {},
     "output_type": "execute_result"
    }
   ],
   "source": [
    "np.vstack((b, a))"
   ]
  },
  {
   "cell_type": "code",
   "execution_count": 224,
   "metadata": {},
   "outputs": [
    {
     "data": {
      "text/plain": [
       "array([[4, 8],\n",
       "       [6, 1],\n",
       "       [3, 5],\n",
       "       [7, 2]])"
      ]
     },
     "execution_count": 224,
     "metadata": {},
     "output_type": "execute_result"
    }
   ],
   "source": [
    "np.concatenate((a, b))"
   ]
  },
  {
   "cell_type": "code",
   "execution_count": 225,
   "metadata": {},
   "outputs": [
    {
     "data": {
      "text/plain": [
       "array([4, 8, 6, 1, 3, 5, 7, 2])"
      ]
     },
     "execution_count": 225,
     "metadata": {},
     "output_type": "execute_result"
    }
   ],
   "source": [
    "np.concatenate((a, b), axis=None)"
   ]
  },
  {
   "cell_type": "markdown",
   "metadata": {},
   "source": [
    "## Sort\n"
   ]
  },
  {
   "cell_type": "code",
   "execution_count": 226,
   "metadata": {},
   "outputs": [],
   "source": [
    "data = np.array([\n",
    "    [7, 1, 4],\n",
    "    [8, 6, 5],\n",
    "    [1, 2, 3]\n",
    "])"
   ]
  },
  {
   "cell_type": "code",
   "execution_count": 227,
   "metadata": {},
   "outputs": [
    {
     "data": {
      "text/plain": [
       "array([[1, 4, 7],\n",
       "       [5, 6, 8],\n",
       "       [1, 2, 3]])"
      ]
     },
     "execution_count": 227,
     "metadata": {},
     "output_type": "execute_result"
    }
   ],
   "source": [
    "np.sort(data)"
   ]
  },
  {
   "cell_type": "code",
   "execution_count": 228,
   "metadata": {},
   "outputs": [
    {
     "data": {
      "text/plain": [
       "array([1, 1, 2, 3, 4, 5, 6, 7, 8])"
      ]
     },
     "execution_count": 228,
     "metadata": {},
     "output_type": "execute_result"
    }
   ],
   "source": [
    "np.sort(data, axis=None)"
   ]
  },
  {
   "cell_type": "code",
   "execution_count": 229,
   "metadata": {},
   "outputs": [
    {
     "data": {
      "text/plain": [
       "array([[1, 4, 7],\n",
       "       [5, 6, 8],\n",
       "       [1, 2, 3]])"
      ]
     },
     "execution_count": 229,
     "metadata": {},
     "output_type": "execute_result"
    }
   ],
   "source": [
    "np.sort(data, axis=1)"
   ]
  },
  {
   "cell_type": "code",
   "execution_count": 230,
   "metadata": {},
   "outputs": [
    {
     "data": {
      "text/plain": [
       "array([[7, 1, 4],\n",
       "       [8, 6, 5],\n",
       "       [1, 2, 3]])"
      ]
     },
     "execution_count": 230,
     "metadata": {},
     "output_type": "execute_result"
    }
   ],
   "source": [
    "data"
   ]
  },
  {
   "cell_type": "code",
   "execution_count": 231,
   "metadata": {},
   "outputs": [
    {
     "data": {
      "text/plain": [
       "array([[1, 1, 3],\n",
       "       [7, 2, 4],\n",
       "       [8, 6, 5]])"
      ]
     },
     "execution_count": 231,
     "metadata": {},
     "output_type": "execute_result"
    }
   ],
   "source": [
    "np.sort(data, axis=0)"
   ]
  },
  {
   "cell_type": "markdown",
   "metadata": {},
   "source": [
    "# Implementation\n"
   ]
  },
  {
   "cell_type": "code",
   "execution_count": 232,
   "metadata": {},
   "outputs": [
    {
     "name": "stdout",
     "output_type": "stream",
     "text": [
      "Actual: 20.085536923187664\n",
      "N (terms)\tMaclaurin\tError\n",
      "1\t\t1.000\t\t19.086\n",
      "2\t\t4.000\t\t16.086\n",
      "3\t\t8.500\t\t11.586\n",
      "4\t\t13.000\t\t7.086\n",
      "5\t\t16.375\t\t3.711\n",
      "6\t\t18.400\t\t1.686\n",
      "7\t\t19.412\t\t0.673\n",
      "8\t\t19.846\t\t0.239\n",
      "9\t\t20.009\t\t0.076\n",
      "10\t\t20.063\t\t0.022\n",
      "11\t\t20.080\t\t0.006\n",
      "12\t\t20.084\t\t0.001\n",
      "13\t\t20.085\t\t0.000\n"
     ]
    }
   ],
   "source": [
    "from math import e, factorial\n",
    "\n",
    "import numpy as np\n",
    "\n",
    "fac = np.vectorize(factorial)\n",
    "\n",
    "\n",
    "def e_x(x, terms=10):\n",
    "    \"\"\"Approximates e^x using a given number of terms of\n",
    "    the Maclaurin series\n",
    "    \"\"\"\n",
    "    n = np.arange(terms)\n",
    "    return np.sum((x ** n) / fac(n))\n",
    "\n",
    "\n",
    "if __name__ == \"__main__\":\n",
    "    print(\"Actual:\", e ** 3)  # Using e from the standard library\n",
    "\n",
    "    print(\"N (terms)\\tMaclaurin\\tError\")\n",
    "\n",
    "    for n in range(1, 14):\n",
    "        maclaurin = e_x(3, terms=n)\n",
    "        print(f\"{n}\\t\\t{maclaurin:.03f}\\t\\t{e**3 - maclaurin:.03f}\")"
   ]
  },
  {
   "cell_type": "code",
   "execution_count": 233,
   "metadata": {},
   "outputs": [
    {
     "ename": "TypeError",
     "evalue": "Executor.map() missing 1 required positional argument: 'fn'",
     "output_type": "error",
     "traceback": [
      "\u001b[1;31m---------------------------------------------------------------------------\u001b[0m",
      "\u001b[1;31mTypeError\u001b[0m                                 Traceback (most recent call last)",
      "\u001b[1;32md:\\Repo\\NumPy-Learning\\src\\numpy_notebook.ipynb Cell 62\u001b[0m line \u001b[0;36m3\n\u001b[0;32m     <a href='vscode-notebook-cell:/d%3A/Repo/NumPy-Learning/src/numpy_notebook.ipynb#Y115sZmlsZQ%3D%3D?line=28'>29</a>\u001b[0m num \u001b[39m=\u001b[39m [\u001b[39m1\u001b[39m, \u001b[39m2\u001b[39m, \u001b[39m3\u001b[39m]\n\u001b[0;32m     <a href='vscode-notebook-cell:/d%3A/Repo/NumPy-Learning/src/numpy_notebook.ipynb#Y115sZmlsZQ%3D%3D?line=29'>30</a>\u001b[0m \u001b[39mwith\u001b[39;00m concurrent\u001b[39m.\u001b[39mfutures\u001b[39m.\u001b[39mThreadPoolExecutor(max_workers\u001b[39m=\u001b[39m\u001b[39mNone\u001b[39;00m) \u001b[39mas\u001b[39;00m Executor:\n\u001b[1;32m---> <a href='vscode-notebook-cell:/d%3A/Repo/NumPy-Learning/src/numpy_notebook.ipynb#Y115sZmlsZQ%3D%3D?line=30'>31</a>\u001b[0m     thread_1 \u001b[39m=\u001b[39m Executor\u001b[39m.\u001b[39;49mmap()\n",
      "\u001b[1;31mTypeError\u001b[0m: Executor.map() missing 1 required positional argument: 'fn'"
     ]
    }
   ],
   "source": [
    "import concurrent.futures\n",
    "from threading import Lock\n",
    "\n",
    "\n",
    "class Foo:\n",
    "    def __init__(self):\n",
    "        self.locks = (Lock(), Lock())\n",
    "        self.locks[0].acquire()\n",
    "        self.locks[1].acquire()\n",
    "\n",
    "    def first(self, printFirst: 'Callable[[], None]') -> None:\n",
    "        # printFirst() outputs \"first\". Do not change or remove this line.\n",
    "        printFirst()\n",
    "        self.locks[0].release()\n",
    "\n",
    "    def second(self, printSecond: 'Callable[[], None]') -> None:\n",
    "        with self.locks[0]:\n",
    "            # printFirst() outputs \"first\". Do not change or remove this line.\n",
    "            printSecond()\n",
    "            self.locks[1].release()\n",
    "        # printSecond() outputs \"second\". Do not change or remove this line.\n",
    "\n",
    "    def third(self, printThird: 'Callable[[], None]') -> None:\n",
    "        with self.locks[1]:\n",
    "            # printThird() outputs \"third\". Do not change or remove this line.\n",
    "            printThird()\n",
    "\n",
    "\n",
    "num = [1, 2, 3]\n",
    "with concurrent.futures.ThreadPoolExecutor(max_workers=None) as Executor:\n",
    "    thread_1 = Executor.map()"
   ]
  },
  {
   "cell_type": "code",
   "execution_count": 234,
   "metadata": {},
   "outputs": [
    {
     "name": "stdout",
     "output_type": "stream",
     "text": [
      "Foo\n",
      "Foo\n"
     ]
    },
    {
     "ename": "RuntimeError",
     "evalue": "release unlocked lock",
     "output_type": "error",
     "traceback": [
      "\u001b[1;31m---------------------------------------------------------------------------\u001b[0m",
      "\u001b[1;31mRuntimeError\u001b[0m                              Traceback (most recent call last)",
      "\u001b[1;32md:\\Repo\\NumPy-Learning\\src\\numpy_notebook.ipynb Cell 63\u001b[0m line \u001b[0;36m3\n\u001b[0;32m     <a href='vscode-notebook-cell:/d%3A/Repo/NumPy-Learning/src/numpy_notebook.ipynb#Y116sZmlsZQ%3D%3D?line=28'>29</a>\u001b[0m object_foo_bar \u001b[39m=\u001b[39m FooBar(\u001b[39m3\u001b[39m)\n\u001b[0;32m     <a href='vscode-notebook-cell:/d%3A/Repo/NumPy-Learning/src/numpy_notebook.ipynb#Y116sZmlsZQ%3D%3D?line=29'>30</a>\u001b[0m \u001b[39mwith\u001b[39;00m ThreadPoolExecutor(max_workers\u001b[39m=\u001b[39m\u001b[39mNone\u001b[39;00m) \u001b[39mas\u001b[39;00m Executor:\n\u001b[1;32m---> <a href='vscode-notebook-cell:/d%3A/Repo/NumPy-Learning/src/numpy_notebook.ipynb#Y116sZmlsZQ%3D%3D?line=30'>31</a>\u001b[0m     thread_foo \u001b[39m=\u001b[39m Executor\u001b[39m.\u001b[39msubmit(FooBar\u001b[39m.\u001b[39;49mfoo(object_foo_bar))\n\u001b[0;32m     <a href='vscode-notebook-cell:/d%3A/Repo/NumPy-Learning/src/numpy_notebook.ipynb#Y116sZmlsZQ%3D%3D?line=31'>32</a>\u001b[0m     thread_bar \u001b[39m=\u001b[39m Executor\u001b[39m.\u001b[39msubmit(FooBar\u001b[39m.\u001b[39mbar(object_foo_bar))\n",
      "\u001b[1;32md:\\Repo\\NumPy-Learning\\src\\numpy_notebook.ipynb Cell 63\u001b[0m line \u001b[0;36m1\n\u001b[0;32m     <a href='vscode-notebook-cell:/d%3A/Repo/NumPy-Learning/src/numpy_notebook.ipynb#Y116sZmlsZQ%3D%3D?line=13'>14</a>\u001b[0m \u001b[39mwith\u001b[39;00m \u001b[39mself\u001b[39m\u001b[39m.\u001b[39mlocks[\u001b[39m2\u001b[39m]:\n\u001b[0;32m     <a href='vscode-notebook-cell:/d%3A/Repo/NumPy-Learning/src/numpy_notebook.ipynb#Y116sZmlsZQ%3D%3D?line=14'>15</a>\u001b[0m     \u001b[39m# printFoo() outputs \"foo\". Do not change or remove this line.\u001b[39;00m\n\u001b[0;32m     <a href='vscode-notebook-cell:/d%3A/Repo/NumPy-Learning/src/numpy_notebook.ipynb#Y116sZmlsZQ%3D%3D?line=15'>16</a>\u001b[0m     \u001b[39mprint\u001b[39m(\u001b[39m\"\u001b[39m\u001b[39mFoo\u001b[39m\u001b[39m\"\u001b[39m)\n\u001b[1;32m---> <a href='vscode-notebook-cell:/d%3A/Repo/NumPy-Learning/src/numpy_notebook.ipynb#Y116sZmlsZQ%3D%3D?line=16'>17</a>\u001b[0m     \u001b[39mself\u001b[39;49m\u001b[39m.\u001b[39;49mlocks[\u001b[39m0\u001b[39;49m]\u001b[39m.\u001b[39;49mrelease()\n",
      "\u001b[1;31mRuntimeError\u001b[0m: release unlocked lock"
     ]
    }
   ],
   "source": [
    "from threading import Lock\n",
    "from concurrent.futures import ThreadPoolExecutor\n",
    "\n",
    "\n",
    "class FooBar:\n",
    "    def __init__(self, n):\n",
    "        self.n = n\n",
    "        self.locks = (Lock(), Lock(), Lock())\n",
    "        self.locks[0].acquire()\n",
    "        self.locks[1].acquire()\n",
    "\n",
    "    def foo(self) -> None:\n",
    "        for i in range(self.n):\n",
    "            with self.locks[2]:\n",
    "                # printFoo() outputs \"foo\". Do not change or remove this line.\n",
    "                print(\"Foo\")\n",
    "                self.locks[0].release()\n",
    "\n",
    "    def bar(self) -> None:\n",
    "        for i in range(self.n):\n",
    "            with self.locks[0]:\n",
    "                # printBar() outputs \"bar\". Do not change or remove this line.\n",
    "                self.locks[0].acquire()\n",
    "                with self.locks[2]:\n",
    "                    print(\"Bar\")\n",
    "                    self.locks[1].release()\n",
    "\n",
    "\n",
    "object_foo_bar = FooBar(3)\n",
    "with ThreadPoolExecutor(max_workers=None) as Executor:\n",
    "    thread_foo = Executor.submit(FooBar.foo(object_foo_bar))\n",
    "    thread_bar = Executor.submit(FooBar.bar(object_foo_bar))"
   ]
  },
  {
   "cell_type": "code",
   "execution_count": 236,
   "metadata": {},
   "outputs": [
    {
     "name": "stdout",
     "output_type": "stream",
     "text": [
      "Foo\n",
      "Bar\n",
      "Bar\n",
      "Foo\n",
      "Bar\n",
      "Foo\n"
     ]
    }
   ],
   "source": [
    "from threading import Lock\n",
    "from threading import Barrier\n",
    "from concurrent.futures import ThreadPoolExecutor,ProcessPoolExecutor\n",
    "\n",
    "class FooBar:\n",
    "    def __init__(self, n):\n",
    "        self.n = n\n",
    "        self.locks = (Lock(), Lock(), Lock())\n",
    "        self.locks[0].acquire()\n",
    "        self.locks[1].acquire()\n",
    "        self.barrier = Barrier(2)\n",
    "\n",
    "    def foo(self) -> None:\n",
    "        for i in range(self.n):\n",
    "            print(\"Foo\")\n",
    "            self.barrier.wait()\n",
    "\n",
    "    def bar(self) -> None:\n",
    "        for i in range(self.n):\n",
    "            print(\"Bar\")\n",
    "            self.barrier.wait()\n",
    "\n",
    "\n",
    "object_foo_bar = FooBar(3)\n",
    "\n",
    "with ThreadPoolExecutor(max_workers=None) as executor:\n",
    "    thread_foo = executor.submit(object_foo_bar.foo)\n",
    "    thread_bar = executor.submit(object_foo_bar.bar)\n",
    "\n",
    "# Wait for threads to finish\n",
    "thread_foo.result()\n",
    "thread_bar.result()"
   ]
  },
  {
   "cell_type": "code",
   "execution_count": 237,
   "metadata": {},
   "outputs": [],
   "source": [
    "import numpy as np\n",
    "list_num = np.array([2, 4, 8])"
   ]
  },
  {
   "cell_type": "code",
   "execution_count": 238,
   "metadata": {},
   "outputs": [
    {
     "name": "stdout",
     "output_type": "stream",
     "text": [
      "[2 4 8]\n"
     ]
    }
   ],
   "source": [
    "print(list_num)"
   ]
  },
  {
   "cell_type": "code",
   "execution_count": 240,
   "metadata": {},
   "outputs": [
    {
     "name": "stdout",
     "output_type": "stream",
     "text": [
      "2 2\n"
     ]
    }
   ],
   "source": [
    "import numpy as np\n",
    "\n",
    "N, M = list(map(int, input().split()))\n",
    "\n",
    "print(N, M)"
   ]
  },
  {
   "cell_type": "code",
   "execution_count": 242,
   "metadata": {},
   "outputs": [
    {
     "name": "stdout",
     "output_type": "stream",
     "text": [
      "[[1 3]\n",
      " [2 4]]\n",
      "[1 2 3 4]\n"
     ]
    }
   ],
   "source": [
    "import numpy as np\n",
    "\n",
    "N, M = list(map(int, input().split()))\n",
    "\n",
    "\n",
    "array_np = np.array([input().split() for _ in range(N)], dtype=int)\n",
    "\n",
    "print(array_np.T)\n",
    "print(array_np.flatten())"
   ]
  },
  {
   "cell_type": "code",
   "execution_count": 243,
   "metadata": {},
   "outputs": [],
   "source": [
    "import numpy as np\n",
    "data = np.array([\n",
    "    (\"joe\", 32, 6),\n",
    "    (\"mary\", 15, 20),\n",
    "    (\"felipe\", 80, 100),\n",
    "    (\"beyonce\", 38, 9001),\n",
    "], dtype=[(\"name\", str, 10), (\"age\", int), (\"power\", int)])"
   ]
  },
  {
   "cell_type": "code",
   "execution_count": 244,
   "metadata": {},
   "outputs": [
    {
     "data": {
      "text/plain": [
       "('joe', 32, 6)"
      ]
     },
     "execution_count": 244,
     "metadata": {},
     "output_type": "execute_result"
    }
   ],
   "source": [
    "data[0]"
   ]
  },
  {
   "cell_type": "code",
   "execution_count": 245,
   "metadata": {},
   "outputs": [
    {
     "data": {
      "text/plain": [
       "array(['felipe', 'beyonce'], dtype='<U10')"
      ]
     },
     "execution_count": 245,
     "metadata": {},
     "output_type": "execute_result"
    }
   ],
   "source": [
    "data[data['age'] > 35]['name']"
   ]
  },
  {
   "cell_type": "markdown",
   "metadata": {},
   "source": [
    "## Hacker Rank Practice Questions"
   ]
  },
  {
   "cell_type": "code",
   "execution_count": 246,
   "metadata": {},
   "outputs": [
    {
     "name": "stdout",
     "output_type": "stream",
     "text": [
      "[[[0 0 0]\n",
      "  [0 0 0]]\n",
      "\n",
      " [[0 0 0]\n",
      "  [0 0 0]]]\n",
      "[[[1 1 1]\n",
      "  [1 1 1]]\n",
      "\n",
      " [[1 1 1]\n",
      "  [1 1 1]]]\n"
     ]
    }
   ],
   "source": [
    "import numpy as np\n",
    "\n",
    "N, M, P = list(map(int, (input().split())))\n",
    "\n",
    "zero_array = np.zeros((N, M, P), int)\n",
    "ones_array = np.ones((N, M, P), int)\n",
    "\n",
    "print(zero_array)\n",
    "print(ones_array)"
   ]
  },
  {
   "cell_type": "code",
   "execution_count": 247,
   "metadata": {},
   "outputs": [
    {
     "name": "stdout",
     "output_type": "stream",
     "text": [
      "[[[0 0 0]\n",
      "  [0 0 0]]\n",
      "\n",
      " [[0 0 0]\n",
      "  [0 0 0]]]\n",
      "[[[1 1 1]\n",
      "  [1 1 1]]\n",
      "\n",
      " [[1 1 1]\n",
      "  [1 1 1]]]\n"
     ]
    }
   ],
   "source": [
    "import numpy as np\n",
    "\n",
    "def create_array(func_for,*args):\n",
    "    size=len(args)\n",
    "    list_dim=[x for x in args]\n",
    "    if func_for==0:\n",
    "        zero_array = np.zeros((list_dim), dtype=int)\n",
    "        return zero_array\n",
    "    else:\n",
    "        ones_array=np.ones((list_dim), dtype=int)\n",
    "        return ones_array\n",
    "\n",
    "user_input = input()\n",
    "user_values = list(map(int, user_input.split()))\n",
    "\n",
    "zero_array = create_array(0,*user_values)\n",
    "ones_array = create_array(1,*user_values)\n",
    "print(zero_array)\n",
    "print(ones_array)\n"
   ]
  },
  {
   "cell_type": "code",
   "execution_count": 248,
   "metadata": {},
   "outputs": [
    {
     "name": "stdout",
     "output_type": "stream",
     "text": [
      "[[1. 0.]\n",
      " [0. 1.]]\n"
     ]
    }
   ],
   "source": [
    "import numpy as np\n",
    "\n",
    "N, M=list(map(int,input().split()))\n",
    "\n",
    "identity_matrix=np.eye(N,M)\n",
    "print(identity_matrix)"
   ]
  },
  {
   "cell_type": "markdown",
   "metadata": {},
   "source": [
    "Input Format\n",
    "\n",
    "The first line contains two space separated integers,N  and M.\n",
    "The next N lines contains M space separated integers of array.\n",
    "The following  lines contains M space separated integers of array."
   ]
  },
  {
   "cell_type": "code",
   "execution_count": null,
   "metadata": {},
   "outputs": [],
   "source": [
    "import numpy as np\n",
    "\n",
    "def read_array(N, M):\n",
    "    array_=np.zeros(shape=(N,M),dtype=int)\n",
    "    for x in range(N):\n",
    "        row=list(map(int,input().split()))\n",
    "        array_[x]=row\n",
    "    return array_\n",
    "\n",
    "N, M = list(map(int,input().split()))\n",
    "array_A=read_array(N, M)\n",
    "array_B=read_array(N, M)"
   ]
  },
  {
   "cell_type": "code",
   "execution_count": null,
   "metadata": {},
   "outputs": [],
   "source": [
    "array_A"
   ]
  },
  {
   "cell_type": "code",
   "execution_count": null,
   "metadata": {},
   "outputs": [],
   "source": [
    "array_B"
   ]
  },
  {
   "cell_type": "code",
   "execution_count": null,
   "metadata": {},
   "outputs": [],
   "source": [
    "print(array_A+array_B)\n",
    "print(array_A-array_B)\n",
    "print(array_A*array_B)\n",
    "print(array_A//array_B)\n",
    "print(array_A%array_B)\n",
    "print(array_A**array_B)"
   ]
  },
  {
   "cell_type": "code",
   "execution_count": null,
   "metadata": {},
   "outputs": [],
   "source": [
    "import numpy as np\n",
    "input_=list(input().split())\n",
    "input_=[float(x) for x in input_]"
   ]
  },
  {
   "cell_type": "code",
   "execution_count": null,
   "metadata": {},
   "outputs": [],
   "source": [
    "print(np.floor(input_))\n",
    "print(np.ceil(input_))\n",
    "print(np.rint(input_))"
   ]
  },
  {
   "cell_type": "code",
   "execution_count": null,
   "metadata": {},
   "outputs": [],
   "source": [
    "_"
   ]
  },
  {
   "cell_type": "code",
   "execution_count": null,
   "metadata": {},
   "outputs": [],
   "source": [
    "import numpy as np\n",
    "\n",
    "def prod_(my_array, axis_=0):\n",
    "    product=np.prod(my_array,axis=axis_)\n",
    "    print(product)\n",
    "\n",
    "\n",
    "def sum_(array_, axis_=None):\n",
    "    sum=np.sum(array_,axis=axis_)\n",
    "    print(sum)\n",
    "\n",
    "\n",
    "def read_array(row_, col_):\n",
    "    array_=np.zeros(shape=(row_,col_),dtype=int)\n",
    "    for x in range(N):\n",
    "        new_row=list(map(int,input().split()))\n",
    "        array_[x]=new_row\n",
    "    return array_\n",
    "\n",
    "N, M = list(map(int,input().split()))\n",
    "array_x=read_array(N,M)\n",
    "prod_(array_x,1)\n",
    "sum_(array_x,1)"
   ]
  },
  {
   "cell_type": "code",
   "execution_count": null,
   "metadata": {},
   "outputs": [],
   "source": [
    "def sum_(array_, axis_=None):\n",
    "    sum=np.sum(array_,axis=axis_)\n",
    "    print(sum)\n",
    "sum_(array_x,1)"
   ]
  },
  {
   "cell_type": "code",
   "execution_count": null,
   "metadata": {},
   "outputs": [],
   "source": [
    "def prod_(my_array, axis_=0):\n",
    "    product=np.prod(my_array,axis=axis_)\n",
    "    print(product)\n",
    "prod_(array_x,1)"
   ]
  },
  {
   "cell_type": "code",
   "execution_count": null,
   "metadata": {},
   "outputs": [],
   "source": [
    "array_x"
   ]
  },
  {
   "cell_type": "code",
   "execution_count": null,
   "metadata": {},
   "outputs": [],
   "source": [
    "import numpy as np\n",
    "def read_array(row_, col_):\n",
    "    array_=np.zeros(shape=(row_,col_),dtype=int)\n",
    "    for x in range(N):\n",
    "        new_row=list(map(int,input().split()))\n",
    "        array_[x]=new_row\n",
    "    return array_"
   ]
  },
  {
   "cell_type": "code",
   "execution_count": null,
   "metadata": {},
   "outputs": [],
   "source": [
    "N, M = list(map(int,input().split()))\n",
    "array_x=read_array(N,M)\n",
    "print(array_x)"
   ]
  },
  {
   "cell_type": "code",
   "execution_count": null,
   "metadata": {},
   "outputs": [],
   "source": [
    "min=np.min(array_x,axis=1)\n",
    "print(min)"
   ]
  },
  {
   "cell_type": "code",
   "execution_count": null,
   "metadata": {},
   "outputs": [],
   "source": [
    "max=np.max(min)"
   ]
  },
  {
   "cell_type": "code",
   "execution_count": null,
   "metadata": {},
   "outputs": [],
   "source": [
    "max"
   ]
  },
  {
   "cell_type": "code",
   "execution_count": null,
   "metadata": {},
   "outputs": [],
   "source": [
    "import numpy as np\n",
    "def read_array(row_, col_):\n",
    "    array_=np.zeros(shape=(row_, col_), dtype=int)\n",
    "    for x in range(N):\n",
    "        new_row=list(map(int, input().split()))\n",
    "        array_[x]=new_row\n",
    "    return array_\n",
    "    \n",
    "N, M = list(map(int, input().split()))\n",
    "array_z=read_array(N, M)"
   ]
  },
  {
   "cell_type": "code",
   "execution_count": null,
   "metadata": {},
   "outputs": [],
   "source": [
    "def format_float(value):\n",
    "    # Format the float with up to 11 decimal places, removing trailing zeros\n",
    "    formatted_value = '{:.11f}'.format(value).rstrip('0').rstrip('.')\n",
    "    return formatted_value"
   ]
  },
  {
   "cell_type": "code",
   "execution_count": null,
   "metadata": {},
   "outputs": [],
   "source": [
    "mean=np.mean(array_z,axis=1)\n",
    "var=np.var(array_z,axis=0)\n",
    "std=np.std(array_z,axis=None)\n",
    "std = format_float(std)"
   ]
  },
  {
   "cell_type": "code",
   "execution_count": null,
   "metadata": {},
   "outputs": [],
   "source": [
    "print(f\"{mean}\\n{var}\\n{np.std(array_z,axis=None)}\")"
   ]
  },
  {
   "cell_type": "code",
   "execution_count": 2,
   "metadata": {},
   "outputs": [
    {
     "name": "stdout",
     "output_type": "stream",
     "text": [
      "[1.5 3.5]\n",
      "[1. 1.]\n",
      "1.11803398875\n"
     ]
    }
   ],
   "source": [
    "import numpy as np\n",
    "import re\n",
    "def read_array(row_, col_):\n",
    "    array_=np.zeros(shape=(row_, col_), dtype=int)\n",
    "    for x in range(N):\n",
    "        new_row=list(map(int, input().split()))\n",
    "        array_[x]=new_row\n",
    "    return array_\n",
    "    \n",
    "def format_float(value):\n",
    "    formatted_value = '{:.11f}'.format(value).rstrip('0')\n",
    "    return formatted_value\n",
    "N, M = list(map(int, input().split()))\n",
    "array_z=read_array(N, M)\n",
    "patern=r\"\\d.$\"\n",
    "mean=np.mean(array_z, axis=1)\n",
    "var=np.var(array_z, axis=0)\n",
    "std=np.std(array_z, axis=None)\n",
    "std = format_float(std)\n",
    "\n",
    "print(f\"{mean}\\n{var}\\n{std}\")"
   ]
  },
  {
   "cell_type": "code",
   "execution_count": 5,
   "metadata": {},
   "outputs": [
    {
     "name": "stdout",
     "output_type": "stream",
     "text": [
      "[2. 3.]\n",
      "[0.25 0.25]\n",
      "1.11803398875\n"
     ]
    }
   ],
   "source": [
    "mean=np.mean(array_z, axis=0)\n",
    "var=np.var(array_z, axis=1)\n",
    "std=np.std(array_z, axis=None)\n",
    "std = format_float(std)\n",
    "print(f\"{mean}\\n{var}\\n{std}\")"
   ]
  },
  {
   "cell_type": "code",
   "execution_count": 3,
   "metadata": {},
   "outputs": [
    {
     "data": {
      "text/plain": [
       "array([[1, 2],\n",
       "       [3, 4]])"
      ]
     },
     "execution_count": 3,
     "metadata": {},
     "output_type": "execute_result"
    }
   ],
   "source": [
    "array_z"
   ]
  },
  {
   "cell_type": "markdown",
   "metadata": {},
   "source": [
    "## Vectorization Advance"
   ]
  },
  {
   "cell_type": "markdown",
   "metadata": {},
   "source": [
    "### creating numpy array with high and low and also the number of integers"
   ]
  },
  {
   "cell_type": "code",
   "execution_count": null,
   "metadata": {},
   "outputs": [],
   "source": [
    "import numpy as np\n",
    "prices = np.random.uniform(low=50,high=60,size=(3,5,10,5))"
   ]
  },
  {
   "cell_type": "code",
   "execution_count": null,
   "metadata": {},
   "outputs": [],
   "source": [
    "prices=prices.astype(int)\n",
    "print(prices)"
   ]
  },
  {
   "cell_type": "code",
   "execution_count": null,
   "metadata": {},
   "outputs": [],
   "source": [
    "random_from_array=np.random.choice(prices[1][1])"
   ]
  },
  {
   "cell_type": "code",
   "execution_count": null,
   "metadata": {},
   "outputs": [],
   "source": [
    "prices[1][1][0]"
   ]
  },
  {
   "cell_type": "code",
   "execution_count": null,
   "metadata": {},
   "outputs": [],
   "source": [
    "prices = np.full(100, fill_value=np.nan)"
   ]
  },
  {
   "cell_type": "code",
   "execution_count": null,
   "metadata": {},
   "outputs": [],
   "source": [
    "prices[[0,24,49,74,99]]=(99,55,15,5,33)"
   ]
  },
  {
   "cell_type": "code",
   "execution_count": null,
   "metadata": {},
   "outputs": [],
   "source": [
    "prices"
   ]
  },
  {
   "cell_type": "code",
   "execution_count": null,
   "metadata": {},
   "outputs": [],
   "source": [
    "x = np.arange(len(prices))"
   ]
  },
  {
   "cell_type": "code",
   "execution_count": null,
   "metadata": {},
   "outputs": [],
   "source": [
    "x"
   ]
  },
  {
   "cell_type": "code",
   "execution_count": null,
   "metadata": {},
   "outputs": [],
   "source": [
    "is_valid = ~np.isnan(prices)"
   ]
  },
  {
   "cell_type": "code",
   "execution_count": null,
   "metadata": {},
   "outputs": [],
   "source": [
    "is_valid"
   ]
  },
  {
   "cell_type": "code",
   "execution_count": null,
   "metadata": {},
   "outputs": [],
   "source": [
    "prices = np.interp(x=x, xp=x[is_valid], fp=prices[is_valid])"
   ]
  },
  {
   "cell_type": "code",
   "execution_count": null,
   "metadata": {},
   "outputs": [],
   "source": [
    "prices"
   ]
  },
  {
   "cell_type": "code",
   "execution_count": null,
   "metadata": {},
   "outputs": [],
   "source": [
    "prices += np.random.randn(len(prices)) * 2"
   ]
  },
  {
   "cell_type": "code",
   "execution_count": null,
   "metadata": {},
   "outputs": [],
   "source": [
    "prices"
   ]
  },
  {
   "cell_type": "markdown",
   "metadata": {},
   "source": [
    "## NumPy Interpolation"
   ]
  },
  {
   "cell_type": "code",
   "execution_count": null,
   "metadata": {},
   "outputs": [],
   "source": [
    "import numpy as np\n",
    "\n",
    "day = np.array([2, 4, 7])\n",
    "gold_price = np.array([55, 58, 65])\n",
    "\n",
    "# find the value of gold on day 3\n",
    "day3_value = np.interp(6, day, gold_price)\n",
    "\n",
    "print(\"The value of gold on day 3 is\", day3_value)"
   ]
  },
  {
   "cell_type": "code",
   "execution_count": null,
   "metadata": {},
   "outputs": [],
   "source": [
    "import numpy as np\n",
    "import matplotlib.pyplot as plt\n",
    "\n",
    "# arrays with random data points\n",
    "x = np.array([0, 1, 2, 3, 4, 5])\n",
    "y = np.array([0, 3, 4, 5, 7, 8]) \n",
    "\n",
    "# generate evenly spaced values between the minimum and maximum x values\n",
    "x_interp = np.linspace(x.min(), x.max(), 100)\n",
    "\n",
    "# interp() to interpolate y values\n",
    "y_interp = np.interp(x_interp, x, y)\n",
    "\n",
    "# plot the original data points and the interpolated values\n",
    "plt.plot(x, y, 'bo')\n",
    "plt.plot(x_interp, y_interp, 'r-')\n",
    "\n",
    "plt.show()"
   ]
  },
  {
   "cell_type": "code",
   "execution_count": null,
   "metadata": {},
   "outputs": [],
   "source": [
    "x_interp"
   ]
  },
  {
   "cell_type": "code",
   "execution_count": null,
   "metadata": {},
   "outputs": [],
   "source": [
    "y_interp"
   ]
  },
  {
   "cell_type": "code",
   "execution_count": null,
   "metadata": {},
   "outputs": [],
   "source": [
    "from numpy import random\n",
    "result = random.randint(0, 10, (3,4))"
   ]
  },
  {
   "cell_type": "code",
   "execution_count": 348,
   "metadata": {},
   "outputs": [
    {
     "name": "stdout",
     "output_type": "stream",
     "text": [
      "Random Integer: 4\n",
      "Random Float: 0.7607231957142276\n",
      "Array of Random Floats: [0.22277366 0.63071792 0.91578732 0.81070365 0.46754775]\n",
      "Random Normal Distribution: [-2.21189607  0.8388492   1.24006767  0.1597465   0.03448624]\n",
      "Random Choice: [2 3 2 3 1]\n",
      "Shuffled Array: [3 8 2 9 6 0 4 1 7 5]\n",
      "Permuted Array: [3 4 2 6 0 8 9 5 1 7]\n"
     ]
    }
   ],
   "source": [
    "import numpy as np\n",
    "import time\n",
    "\n",
    "rng = np.random.default_rng()"
   ]
  },
  {
   "cell_type": "code",
   "execution_count": 486,
   "metadata": {},
   "outputs": [
    {
     "name": "stdout",
     "output_type": "stream",
     "text": [
      "Random Integer: 4\n"
     ]
    }
   ],
   "source": [
    "# Generating random integers\n",
    "random_int = rng.integers(0, 10)  # Random integer between 0 (inclusive) and 10 (exclusive)\n",
    "print(\"Random Integer:\", random_int)"
   ]
  },
  {
   "cell_type": "code",
   "execution_count": 487,
   "metadata": {},
   "outputs": [
    {
     "name": "stdout",
     "output_type": "stream",
     "text": [
      "Random Float: 0.9500478914702405\n"
     ]
    }
   ],
   "source": [
    "# Generating random floats\n",
    "random_float = rng.random()  # Random float between 0 (inclusive) and 1 (exclusive)\n",
    "print(\"Random Float:\", random_float)"
   ]
  },
  {
   "cell_type": "code",
   "execution_count": 491,
   "metadata": {},
   "outputs": [
    {
     "name": "stdout",
     "output_type": "stream",
     "text": [
      "Array of Random Floats: [0.94319112 0.17867053 0.79424955 0.69858549 0.08024261]\n"
     ]
    }
   ],
   "source": [
    "# Generating an array of random floats\n",
    "random_floats = rng.random(size=5)  # Array of 5 random floats\n",
    "print(\"Array of Random Floats:\", random_floats)"
   ]
  },
  {
   "cell_type": "code",
   "execution_count": 493,
   "metadata": {},
   "outputs": [
    {
     "name": "stdout",
     "output_type": "stream",
     "text": [
      "Random Normal Distribution: [-6.68646695 -1.54867124  3.72619394  1.24638511 10.70055206]\n"
     ]
    }
   ],
   "source": [
    "# Generating random floats from a normal distribution\n",
    "random_normal = rng.normal(2, 5, size=5)  # Random floats from a normal distribution with mean 0 and standard deviation 1\n",
    "print(\"Random Normal Distribution:\", random_normal)"
   ]
  },
  {
   "cell_type": "code",
   "execution_count": 495,
   "metadata": {},
   "outputs": [
    {
     "name": "stdout",
     "output_type": "stream",
     "text": [
      "Random Choice: [2 3 4 1 4 2 3 2 2 2 1 1 2 1 7 4 2 1 2 1 1 7 1 3 1 1 1 1 1 2 3 1 3 4 3 1 4\n",
      " 1 1 1 2 1 7 4 1 1 1 1 1 1]\n"
     ]
    }
   ],
   "source": [
    "# Generating random integers with specified probabilities\n",
    "random_choice = rng.choice([1, 2, 3,4,7], size=50, p=[.50,.20,.10,.10,.10])  # Randomly choose from the given values with specified probabilities\n",
    "print(\"Random Choice:\", random_choice)"
   ]
  },
  {
   "cell_type": "code",
   "execution_count": 462,
   "metadata": {},
   "outputs": [
    {
     "name": "stdout",
     "output_type": "stream",
     "text": [
      "Shuffled Array: [0 1 2 3 4 5 6 7 8 9]\n",
      "Shuffled Array: [6 0 8 2 9 7 4 1 3 5]\n"
     ]
    }
   ],
   "source": [
    "# Shuffling an array\n",
    "arr = np.arange(10)\n",
    "print(\"Shuffled Array:\", arr)\n",
    "rng.shuffle(arr)  # In-place shuffle\n",
    "print(\"Shuffled Array:\", arr)"
   ]
  },
  {
   "cell_type": "code",
   "execution_count": null,
   "metadata": {},
   "outputs": [],
   "source": []
  },
  {
   "cell_type": "code",
   "execution_count": 1,
   "metadata": {},
   "outputs": [
    {
     "ename": "NameError",
     "evalue": "name 'arr' is not defined",
     "output_type": "error",
     "traceback": [
      "\u001b[1;31m---------------------------------------------------------------------------\u001b[0m",
      "\u001b[1;31mNameError\u001b[0m                                 Traceback (most recent call last)",
      "\u001b[1;32md:\\Repo\\NumPy-Learning\\src\\numpy_notebook.ipynb Cell 128\u001b[0m line \u001b[0;36m2\n\u001b[0;32m      <a href='vscode-notebook-cell:/d%3A/Repo/NumPy-Learning/src/numpy_notebook.ipynb#Y241sZmlsZQ%3D%3D?line=0'>1</a>\u001b[0m \u001b[39m# Permuting an array\u001b[39;00m\n\u001b[1;32m----> <a href='vscode-notebook-cell:/d%3A/Repo/NumPy-Learning/src/numpy_notebook.ipynb#Y241sZmlsZQ%3D%3D?line=1'>2</a>\u001b[0m \u001b[39mprint\u001b[39m(\u001b[39m\"\u001b[39m\u001b[39mArray:\u001b[39m\u001b[39m\"\u001b[39m, arr)\n\u001b[0;32m      <a href='vscode-notebook-cell:/d%3A/Repo/NumPy-Learning/src/numpy_notebook.ipynb#Y241sZmlsZQ%3D%3D?line=2'>3</a>\u001b[0m permuted_arr \u001b[39m=\u001b[39m rng\u001b[39m.\u001b[39mpermutation(arr)  \u001b[39m# Returns a new permuted array\u001b[39;00m\n\u001b[0;32m      <a href='vscode-notebook-cell:/d%3A/Repo/NumPy-Learning/src/numpy_notebook.ipynb#Y241sZmlsZQ%3D%3D?line=3'>4</a>\u001b[0m \u001b[39mprint\u001b[39m(\u001b[39m\"\u001b[39m\u001b[39mPermuted Array:\u001b[39m\u001b[39m\"\u001b[39m, permuted_arr)\n",
      "\u001b[1;31mNameError\u001b[0m: name 'arr' is not defined"
     ]
    }
   ],
   "source": [
    "# Permuting an array\n",
    "print(\"Array:\", arr)\n",
    "permuted_arr = rng.permutation(arr)  # Returns a new permuted array\n",
    "print(\"Permuted Array:\", permuted_arr)"
   ]
  },
  {
   "cell_type": "code",
   "execution_count": 463,
   "metadata": {},
   "outputs": [],
   "source": [
    "import numpy as np\n",
    "\n",
    "nrandom=np.random.default_rng(1)"
   ]
  },
  {
   "cell_type": "code",
   "execution_count": null,
   "metadata": {},
   "outputs": [],
   "source": [
    "nrandom.uniform(low=10,high=100,size=10).astype(int)"
   ]
  },
  {
   "cell_type": "code",
   "execution_count": 13,
   "metadata": {},
   "outputs": [
    {
     "name": "stdout",
     "output_type": "stream",
     "text": [
      "Shuffled Array: [0 1 2 3 4 5 6 7 8 9]\n",
      "Shuffled Array: [8 7 9 4 5 3 1 6 2 0]\n"
     ]
    }
   ],
   "source": [
    "import numpy as np\n",
    "rng=np.random.default_rng()\n",
    "arr = np.arange(10)\n",
    "print(\"Shuffled Array:\", arr)\n",
    "rng.shuffle(arr)  # In-place shuffle\n",
    "print(\"Shuffled Array:\", arr)\n",
    "data_types = np.ufunc.types"
   ]
  },
  {
   "cell_type": "code",
   "execution_count": 14,
   "metadata": {},
   "outputs": [
    {
     "data": {
      "text/plain": [
       "<attribute 'types' of 'numpy.ufunc' objects>"
      ]
     },
     "execution_count": 14,
     "metadata": {},
     "output_type": "execute_result"
    }
   ],
   "source": [
    "data_types"
   ]
  },
  {
   "cell_type": "code",
   "execution_count": 15,
   "metadata": {},
   "outputs": [
    {
     "name": "stdout",
     "output_type": "stream",
     "text": [
      "['??->?', 'bb->b', 'BB->B', 'hh->h', 'HH->H', 'ii->i', 'II->I', 'll->l', 'LL->L', 'qq->q', 'QQ->Q', 'ee->e', 'ff->f', 'dd->d', 'gg->g', 'FF->F', 'DD->D', 'GG->G', 'Mm->M', 'mm->m', 'mM->M', 'OO->O']\n"
     ]
    }
   ],
   "source": [
    "ufunc_types = np.add.types\n",
    "print(ufunc_types)"
   ]
  },
  {
   "cell_type": "markdown",
   "metadata": {},
   "source": [
    "Original arrays:\n",
    "[[1 2]\n",
    " [3 4]\n",
    " [5 6]]\n",
    "[7 8]\n",
    "Dot product of the said two arrays:\n",
    "[23 53 83]\n",
    "Explanation:\n",
    "\n",
    "In the above exercise -\n",
    "\n",
    "nums1 = np.array([[1, 2], [3, 4], [5, 6]]): This code creates a 2D NumPy array with shape (3, 2) containing \n",
    "the values [[1, 2], [3, 4], [5, 6]] and assigns it to the variable nums1.\n",
    "\n",
    "nums2 = np.array([7, 8]): This code creates a 1D NumPy array with shape (2,) containing the values [7, 8] and \n",
    "assigns it to the variable nums2.\n",
    "\n",
    "result = np.dot(nums1, nums2): Here dot() function performs dot product between nums1 and nums2, and \n",
    "assigns the result to the variable result. Since nums1 has shape (3, 2) and nums2 has shape (2,), the dot product \n",
    "results in a 1D array with shape (3,) containing the values [23, 53, 83]."
   ]
  },
  {
   "cell_type": "markdown",
   "metadata": {},
   "source": [
    "## NumPy Advance"
   ]
  },
  {
   "cell_type": "markdown",
   "metadata": {},
   "source": [
    "### Question 01\n",
    "Write a NumPy program to find the dot product of two arrays of different dimensions."
   ]
  },
  {
   "cell_type": "code",
   "execution_count": 66,
   "metadata": {},
   "outputs": [
    {
     "name": "stdout",
     "output_type": "stream",
     "text": [
      "[[1 2]\n",
      " [3 4]\n",
      " [5 6]]\n",
      "[7 8]\n"
     ]
    }
   ],
   "source": [
    "array_1=np.array([1,2,3,4,5,6]).reshape(3,2)\n",
    "print(array_1)\n",
    "array_2=np.array([7,8]).reshape(2,)\n",
    "array_2.reshape(2,1)\n",
    "print(array_2)\n",
    "result=np.dot(array_1,array_2)"
   ]
  },
  {
   "cell_type": "code",
   "execution_count": 65,
   "metadata": {},
   "outputs": [
    {
     "data": {
      "text/plain": [
       "array([23, 53, 83])"
      ]
     },
     "execution_count": 65,
     "metadata": {},
     "output_type": "execute_result"
    }
   ],
   "source": [
    "result"
   ]
  },
  {
   "cell_type": "markdown",
   "metadata": {},
   "source": [
    "### Question 02\n",
    "Write a NumPy program to create a 3x3 identity matrix and stack it vertically and horizontally."
   ]
  },
  {
   "cell_type": "code",
   "execution_count": 81,
   "metadata": {},
   "outputs": [
    {
     "name": "stdout",
     "output_type": "stream",
     "text": [
      "[[1 0 0]\n",
      " [0 1 0]\n",
      " [0 0 1]]\n"
     ]
    }
   ],
   "source": [
    "matrix_iden=np.identity(3).astype(int)\n",
    "matrix_iden_vertically_stack=np.vstack([matrix_iden,matrix_iden,matrix_iden])\n",
    "matrix_iden_horizantally_stack=np.hstack([matrix_iden,matrix_iden,matrix_iden])\n",
    "\n",
    "print(matrix_iden)"
   ]
  },
  {
   "cell_type": "code",
   "execution_count": 79,
   "metadata": {},
   "outputs": [
    {
     "data": {
      "text/plain": [
       "array([[1, 0, 0],\n",
       "       [0, 1, 0],\n",
       "       [0, 0, 1],\n",
       "       [1, 0, 0],\n",
       "       [0, 1, 0],\n",
       "       [0, 0, 1],\n",
       "       [1, 0, 0],\n",
       "       [0, 1, 0],\n",
       "       [0, 0, 1]])"
      ]
     },
     "execution_count": 79,
     "metadata": {},
     "output_type": "execute_result"
    }
   ],
   "source": [
    "matrix_iden_vertically_stack"
   ]
  },
  {
   "cell_type": "code",
   "execution_count": 82,
   "metadata": {},
   "outputs": [
    {
     "data": {
      "text/plain": [
       "array([[1, 0, 0, 1, 0, 0, 1, 0, 0],\n",
       "       [0, 1, 0, 0, 1, 0, 0, 1, 0],\n",
       "       [0, 0, 1, 0, 0, 1, 0, 0, 1]])"
      ]
     },
     "execution_count": 82,
     "metadata": {},
     "output_type": "execute_result"
    }
   ],
   "source": [
    "matrix_iden_horizantally_stack"
   ]
  },
  {
   "cell_type": "markdown",
   "metadata": {},
   "source": [
    "### Question 3\n",
    "Write a NumPy program to create a 4x4 array with random values and find the sum of each row."
   ]
  },
  {
   "cell_type": "code",
   "execution_count": 88,
   "metadata": {},
   "outputs": [],
   "source": [
    "rng=np.random.default_rng()\n",
    "four_x_array=rng.uniform(low=1,high=20,size=(4,4)).astype(int)"
   ]
  },
  {
   "cell_type": "code",
   "execution_count": 89,
   "metadata": {},
   "outputs": [
    {
     "data": {
      "text/plain": [
       "array([[ 5,  3, 14,  4],\n",
       "       [ 2, 11,  8, 10],\n",
       "       [ 2,  4,  4, 18],\n",
       "       [10, 16, 16, 13]])"
      ]
     },
     "execution_count": 89,
     "metadata": {},
     "output_type": "execute_result"
    }
   ],
   "source": [
    "four_x_array"
   ]
  },
  {
   "cell_type": "code",
   "execution_count": 92,
   "metadata": {},
   "outputs": [],
   "source": [
    "row_sum=np.sum(four_x_array,axis=1)"
   ]
  },
  {
   "cell_type": "code",
   "execution_count": 93,
   "metadata": {},
   "outputs": [
    {
     "data": {
      "text/plain": [
       "array([26, 31, 28, 55])"
      ]
     },
     "execution_count": 93,
     "metadata": {},
     "output_type": "execute_result"
    }
   ],
   "source": [
    "row_sum"
   ]
  },
  {
   "cell_type": "markdown",
   "metadata": {},
   "source": [
    "### Question 4\n",
    "Write a NumPy program to create a 3x3 array with random values and subtract the mean of each row from each element."
   ]
  },
  {
   "cell_type": "code",
   "execution_count": 96,
   "metadata": {},
   "outputs": [],
   "source": [
    "import numpy as np\n",
    "rng=np.random.default_rng()\n",
    "array_q4=rng.uniform(low=1,high=50,size=(3,3)).astype(int)\n"
   ]
  },
  {
   "cell_type": "code",
   "execution_count": 99,
   "metadata": {},
   "outputs": [
    {
     "name": "stdout",
     "output_type": "stream",
     "text": [
      "[18 28 18]\n"
     ]
    }
   ],
   "source": [
    "mean_array_row=np.mean(array_q4,axis=1).astype(int)\n",
    "print(mean_array_row)"
   ]
  },
  {
   "cell_type": "code",
   "execution_count": 101,
   "metadata": {},
   "outputs": [],
   "source": [
    "modified_array=np.subtract(array_q4,mean_array_row)"
   ]
  },
  {
   "cell_type": "code",
   "execution_count": 102,
   "metadata": {},
   "outputs": [
    {
     "data": {
      "text/plain": [
       "array([[ -1,  -9,   2],\n",
       "       [ 23,  12, -15],\n",
       "       [  2, -24,  13]])"
      ]
     },
     "execution_count": 102,
     "metadata": {},
     "output_type": "execute_result"
    }
   ],
   "source": [
    "modified_array"
   ]
  },
  {
   "cell_type": "code",
   "execution_count": 103,
   "metadata": {},
   "outputs": [
    {
     "data": {
      "text/plain": [
       "array([[17, 19, 20],\n",
       "       [41, 40,  3],\n",
       "       [20,  4, 31]])"
      ]
     },
     "execution_count": 103,
     "metadata": {},
     "output_type": "execute_result"
    }
   ],
   "source": [
    "array_q4"
   ]
  },
  {
   "cell_type": "markdown",
   "metadata": {},
   "source": [
    "### Question 5\n",
    "Write a NumPy program to create a 3x3 array with random values and subtract the mean of each column from each element."
   ]
  },
  {
   "cell_type": "code",
   "execution_count": 104,
   "metadata": {},
   "outputs": [],
   "source": [
    "import numpy as np\n",
    "rng=np.random.default_rng()\n",
    "array_q4=rng.uniform(low=1,high=50,size=(3,3)).astype(int)"
   ]
  },
  {
   "cell_type": "code",
   "execution_count": 105,
   "metadata": {},
   "outputs": [
    {
     "name": "stdout",
     "output_type": "stream",
     "text": [
      "[10 29 14]\n"
     ]
    }
   ],
   "source": [
    "mean_array_row=np.mean(array_q4,axis=0).astype(int)\n",
    "print(mean_array_row)"
   ]
  },
  {
   "cell_type": "code",
   "execution_count": 106,
   "metadata": {},
   "outputs": [],
   "source": [
    "modified_array=np.subtract(array_q4,mean_array_row)"
   ]
  },
  {
   "cell_type": "code",
   "execution_count": 107,
   "metadata": {},
   "outputs": [
    {
     "data": {
      "text/plain": [
       "array([[ -1, -19, -13],\n",
       "       [ 10,  17,  12],\n",
       "       [ -7,   3,   2]])"
      ]
     },
     "execution_count": 107,
     "metadata": {},
     "output_type": "execute_result"
    }
   ],
   "source": [
    "modified_array"
   ]
  },
  {
   "cell_type": "code",
   "execution_count": 108,
   "metadata": {},
   "outputs": [
    {
     "data": {
      "text/plain": [
       "array([[ 9, 10,  1],\n",
       "       [20, 46, 26],\n",
       "       [ 3, 32, 16]])"
      ]
     },
     "execution_count": 108,
     "metadata": {},
     "output_type": "execute_result"
    }
   ],
   "source": [
    "array_q4"
   ]
  },
  {
   "cell_type": "markdown",
   "metadata": {},
   "source": [
    "### Question 6\n",
    "Write a NumPy program to create a 5x5 array with random values and normalize it row-wise."
   ]
  },
  {
   "cell_type": "code",
   "execution_count": 122,
   "metadata": {},
   "outputs": [
    {
     "name": "stdout",
     "output_type": "stream",
     "text": [
      "Original array elements:\n",
      "[[[[1 3]\n",
      "   [2 3]]\n",
      "\n",
      "  [[2 2]\n",
      "   [1 2]]]\n",
      "\n",
      "\n",
      " [[[4 3]\n",
      "   [4 3]]\n",
      "\n",
      "  [[4 1]\n",
      "   [1 2]]]]\n",
      "\n",
      "Sum along the last axis:\n",
      "[[[4 5]\n",
      "  [4 3]]\n",
      "\n",
      " [[7 7]\n",
      "  [5 3]]]\n"
     ]
    }
   ],
   "source": [
    "import numpy as np\n",
    "nums = np.random.uniform(low=1, high=5, size=(2,2,2,2)).astype(int)\n",
    "print(\"Original array elements:\")\n",
    "print(nums)\n",
    "sum_along_last_axis = np.sum(nums, axis=-1).astype(int)\n",
    "print(\"\\nSum along the last axis:\")\n",
    "print(sum_along_last_axis)"
   ]
  },
  {
   "cell_type": "markdown",
   "metadata": {},
   "source": [
    "### Question 11\n",
    "Write a NumPy program to create a 5x5 array with random values and find the second-largest value in each row."
   ]
  },
  {
   "cell_type": "code",
   "execution_count": 125,
   "metadata": {},
   "outputs": [
    {
     "name": "stdout",
     "output_type": "stream",
     "text": [
      "Original array elements:\n",
      "[[45 34 47 39 42]\n",
      " [34 37  8 39 13]\n",
      " [12 29 34 38 10]\n",
      " [30 23 42 45 11]\n",
      " [22 48 11  3 32]]\n"
     ]
    }
   ],
   "source": [
    "import numpy as np\n",
    "nums = np.random.uniform(low=1, high=50, size=(5,5)).astype(int)\n",
    "print(\"Original array elements:\")\n",
    "print(nums)"
   ]
  },
  {
   "cell_type": "code",
   "execution_count": 211,
   "metadata": {},
   "outputs": [
    {
     "name": "stdout",
     "output_type": "stream",
     "text": [
      "[47 39 38 45 48]\n",
      "[45 37 34 42 32]\n"
     ]
    }
   ],
   "source": [
    "max_each_row=np.max(nums,axis=1)\n",
    "sorted_max=np.sort(nums,axis=1)\n",
    "sorted_max=sorted_max.T\n",
    "second_max_each_row=sorted_max[3:2:-1]\n",
    "print(max_each_row)\n",
    "print(second_max_each_row.flatten())"
   ]
  },
  {
   "cell_type": "code",
   "execution_count": 225,
   "metadata": {},
   "outputs": [],
   "source": [
    "second_largest_m = np.partition(nums, -2, axis=1)"
   ]
  },
  {
   "cell_type": "code",
   "execution_count": 226,
   "metadata": {},
   "outputs": [],
   "source": [
    "second_largest_a = np.partition(nums, 1, axis=1)"
   ]
  },
  {
   "cell_type": "code",
   "execution_count": 227,
   "metadata": {},
   "outputs": [
    {
     "data": {
      "text/plain": [
       "array([[39, 42, 34, 45, 47],\n",
       "       [ 8, 13, 34, 37, 39],\n",
       "       [10, 12, 29, 34, 38],\n",
       "       [23, 11, 30, 42, 45],\n",
       "       [ 3, 11, 22, 32, 48]])"
      ]
     },
     "execution_count": 227,
     "metadata": {},
     "output_type": "execute_result"
    }
   ],
   "source": [
    "second_largest_m"
   ]
  },
  {
   "cell_type": "code",
   "execution_count": 228,
   "metadata": {},
   "outputs": [
    {
     "data": {
      "text/plain": [
       "array([[34, 39, 47, 45, 42],\n",
       "       [ 8, 13, 34, 39, 37],\n",
       "       [10, 12, 34, 38, 29],\n",
       "       [11, 23, 42, 45, 30],\n",
       "       [ 3, 11, 48, 22, 32]])"
      ]
     },
     "execution_count": 228,
     "metadata": {},
     "output_type": "execute_result"
    }
   ],
   "source": [
    "second_largest_a"
   ]
  },
  {
   "cell_type": "code",
   "execution_count": 229,
   "metadata": {},
   "outputs": [],
   "source": [
    "arr = np.array([5, 4, 1, 0, -1, -3, -4, 0])"
   ]
  },
  {
   "cell_type": "code",
   "execution_count": 335,
   "metadata": {},
   "outputs": [
    {
     "name": "stdout",
     "output_type": "stream",
     "text": [
      "[[29 25 41 14 42 35 17 35 44  8]]\n"
     ]
    },
    {
     "data": {
      "text/plain": [
       "array([[25,  8, 17, 14, 29, 35, 35, 41, 44, 42]])"
      ]
     },
     "execution_count": 335,
     "metadata": {},
     "output_type": "execute_result"
    }
   ],
   "source": [
    "arr = np.random.uniform(low=1, high=50, size=(1,10)).astype(int)\n"
   ]
  },
  {
   "cell_type": "code",
   "execution_count": 353,
   "metadata": {},
   "outputs": [
    {
     "data": {
      "text/plain": [
       "array([ 4,  6,  0,  6,  7,  8,  8, 11, 12, 12, 14, 16, 12, 25, 23, 20, 26,\n",
       "       16, 27, 19], dtype=int64)"
      ]
     },
     "execution_count": 353,
     "metadata": {},
     "output_type": "execute_result"
    }
   ],
   "source": [
    "arr=rng.integers(0,30,20)\n",
    "np.partition(arr,5)"
   ]
  },
  {
   "cell_type": "code",
   "execution_count": 354,
   "metadata": {},
   "outputs": [
    {
     "data": {
      "text/plain": [
       "array([ 4,  6,  0,  6,  7,  8,  8, 11, 12, 12, 14, 16, 12, 25, 23, 20, 26,\n",
       "       16, 27, 19], dtype=int64)"
      ]
     },
     "execution_count": 354,
     "metadata": {},
     "output_type": "execute_result"
    }
   ],
   "source": [
    "np.partition(arr,4)"
   ]
  },
  {
   "cell_type": "code",
   "execution_count": 355,
   "metadata": {},
   "outputs": [],
   "source": [
    "arr=rng.integers(0,30,(5,5))"
   ]
  },
  {
   "cell_type": "code",
   "execution_count": 356,
   "metadata": {},
   "outputs": [
    {
     "data": {
      "text/plain": [
       "array([[21, 11,  4, 16, 18],\n",
       "       [ 4, 13, 24,  5,  8],\n",
       "       [26,  8, 21, 18,  3],\n",
       "       [21, 17,  1, 26, 20],\n",
       "       [12, 10, 16, 18, 13]], dtype=int64)"
      ]
     },
     "execution_count": 356,
     "metadata": {},
     "output_type": "execute_result"
    }
   ],
   "source": [
    "arr"
   ]
  },
  {
   "cell_type": "code",
   "execution_count": 362,
   "metadata": {},
   "outputs": [
    {
     "name": "stdout",
     "output_type": "stream",
     "text": [
      "26\n"
     ]
    }
   ],
   "source": [
    "index_row,index_col=list(map(int,input(\"Enter Row and Col Index Space Seperated\").split()))\n",
    "\n",
    "print(arr[index_row][index_col])\n",
    "\n"
   ]
  },
  {
   "cell_type": "code",
   "execution_count": 367,
   "metadata": {},
   "outputs": [
    {
     "ename": "TypeError",
     "evalue": "int() argument must be a string, a bytes-like object or a real number, not 'list'",
     "output_type": "error",
     "traceback": [
      "\u001b[1;31m---------------------------------------------------------------------------\u001b[0m",
      "\u001b[1;31mTypeError\u001b[0m                                 Traceback (most recent call last)",
      "\u001b[1;32md:\\Repo\\NumPy-Learning\\src\\numpy_notebook.ipynb Cell 179\u001b[0m line \u001b[0;36m1\n\u001b[1;32m----> <a href='vscode-notebook-cell:/d%3A/Repo/NumPy-Learning/src/numpy_notebook.ipynb#Y360sZmlsZQ%3D%3D?line=0'>1</a>\u001b[0m value_to_replace\u001b[39m=\u001b[39m\u001b[39mint\u001b[39;49m(\u001b[39minput\u001b[39;49m(\u001b[39m\"\u001b[39;49m\u001b[39mEnter Replace value\u001b[39;49m\u001b[39m\"\u001b[39;49m)\u001b[39m.\u001b[39;49msplit())\n\u001b[0;32m      <a href='vscode-notebook-cell:/d%3A/Repo/NumPy-Learning/src/numpy_notebook.ipynb#Y360sZmlsZQ%3D%3D?line=1'>2</a>\u001b[0m \u001b[39mprint\u001b[39m(value_to_replace)\n\u001b[0;32m      <a href='vscode-notebook-cell:/d%3A/Repo/NumPy-Learning/src/numpy_notebook.ipynb#Y360sZmlsZQ%3D%3D?line=2'>3</a>\u001b[0m arr[index_row\u001b[39m+\u001b[39m\u001b[39m1\u001b[39m][index_col]\u001b[39m=\u001b[39m[[value_to_replace]]\n",
      "\u001b[1;31mTypeError\u001b[0m: int() argument must be a string, a bytes-like object or a real number, not 'list'"
     ]
    }
   ],
   "source": [
    "value_to_replace=int(input(\"Enter Replace value\"))\n",
    "print(value_to_replace)\n",
    "arr[index_row+1][index_col]=[[value_to_replace]]\n",
    "arr[index_row][index_col+1]=[value_to_replace]\n",
    "arr[index_row-1][index_col]=[value_to_replace]\n",
    "arr[index_row][index_col-1]=[value_to_replace]\n",
    "arr[index_row+1][index_col+1]=[value_to_replace]\n",
    "arr[index_row-1][index_col-1]=[value_to_replace]\n",
    "arr[index_row-1][index_col+1]=[value_to_replace]\n",
    "arr[index_row-1][index_col+1]=[value_to_replace]\n"
   ]
  }
 ],
 "metadata": {
  "kernelspec": {
   "display_name": ".venv",
   "language": "python",
   "name": "python3"
  },
  "language_info": {
   "codemirror_mode": {
    "name": "ipython",
    "version": 3
   },
   "file_extension": ".py",
   "mimetype": "text/x-python",
   "name": "python",
   "nbconvert_exporter": "python",
   "pygments_lexer": "ipython3",
   "version": "3.11.6"
  }
 },
 "nbformat": 4,
 "nbformat_minor": 2
}
