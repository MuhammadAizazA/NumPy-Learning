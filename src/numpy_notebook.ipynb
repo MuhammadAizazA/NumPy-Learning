{
 "cells": [
  {
   "cell_type": "markdown",
   "metadata": {},
   "source": [
    "<h2>Curving Test Grades</h2>\n"
   ]
  },
  {
   "cell_type": "code",
   "execution_count": 250,
   "metadata": {},
   "outputs": [],
   "source": [
    "import numpy as np\n",
    "CURVE_CENTER = 80\n",
    "\n",
    "\n",
    "def curve(grades):\n",
    "    average = grades.mean()\n",
    "    change = CURVE_CENTER - average\n",
    "    new_grades = grades + change\n",
    "    return np.clip(new_grades, grades, 100)"
   ]
  },
  {
   "cell_type": "code",
   "execution_count": 251,
   "metadata": {},
   "outputs": [
    {
     "data": {
      "text/plain": [
       "array([ 91.25,  54.25,  83.25, 100.  ,  70.25, 100.  ,  93.25,  31.25])"
      ]
     },
     "execution_count": 251,
     "metadata": {},
     "output_type": "execute_result"
    }
   ],
   "source": [
    "\n",
    "grades = np.array([72, 35, 64, 88, 51, 90, 74, 12])\n",
    "curve(grades)"
   ]
  },
  {
   "cell_type": "markdown",
   "metadata": {},
   "source": [
    "<h2>Array Shapes and Axes</h2>\n"
   ]
  },
  {
   "cell_type": "markdown",
   "metadata": {},
   "source": [
    "Creating numpy array and reshaping it into 3 planes of 3 rows x 2 cols\n"
   ]
  },
  {
   "cell_type": "code",
   "execution_count": 252,
   "metadata": {},
   "outputs": [],
   "source": [
    "temperatures = np.array([\n",
    "    29.3, 42.1, 18.8, 16.1, 38.0, 12.5,\n",
    "    12.6, 49.9, 38.6, 31.3, 9.2, 22.2,\n",
    "    13.6, 46.4, 32.6, 11.3, 93.2, 25.2\n",
    "]).reshape(3, 3, 2)"
   ]
  },
  {
   "cell_type": "code",
   "execution_count": 253,
   "metadata": {},
   "outputs": [
    {
     "name": "stdout",
     "output_type": "stream",
     "text": [
      "(3, 3, 2)\n"
     ]
    }
   ],
   "source": [
    "print(temperatures.shape)"
   ]
  },
  {
   "cell_type": "code",
   "execution_count": 254,
   "metadata": {},
   "outputs": [
    {
     "name": "stdout",
     "output_type": "stream",
     "text": [
      "[[[29.3 42.1]\n",
      "  [18.8 16.1]\n",
      "  [38.  12.5]]\n",
      "\n",
      " [[12.6 49.9]\n",
      "  [38.6 31.3]\n",
      "  [ 9.2 22.2]]\n",
      "\n",
      " [[13.6 46.4]\n",
      "  [32.6 11.3]\n",
      "  [93.2 25.2]]]\n"
     ]
    }
   ],
   "source": [
    "print(temperatures)"
   ]
  },
  {
   "cell_type": "code",
   "execution_count": 255,
   "metadata": {},
   "outputs": [
    {
     "data": {
      "text/plain": [
       "array([[[29.3, 18.8, 38. ],\n",
       "        [42.1, 16.1, 12.5]],\n",
       "\n",
       "       [[12.6, 38.6,  9.2],\n",
       "        [49.9, 31.3, 22.2]],\n",
       "\n",
       "       [[13.6, 32.6, 93.2],\n",
       "        [46.4, 11.3, 25.2]]])"
      ]
     },
     "execution_count": 255,
     "metadata": {},
     "output_type": "execute_result"
    }
   ],
   "source": [
    "np.swapaxes(temperatures, 1, 2)"
   ]
  },
  {
   "cell_type": "code",
   "execution_count": 256,
   "metadata": {},
   "outputs": [
    {
     "data": {
      "text/plain": [
       "array([[42.1, 18.8, 38. ],\n",
       "       [49.9, 38.6, 22.2],\n",
       "       [46.4, 32.6, 93.2]])"
      ]
     },
     "execution_count": 256,
     "metadata": {},
     "output_type": "execute_result"
    }
   ],
   "source": [
    "temperatures.max(axis=2)"
   ]
  },
  {
   "cell_type": "code",
   "execution_count": 257,
   "metadata": {},
   "outputs": [],
   "source": [
    "table = np.array([\n",
    "    [5, 3, 7, 1],\n",
    "    [2, 6, 7, 9],\n",
    "    [1, 1, 1, 1],\n",
    "    [4, 3, 2, 0],\n",
    "    [1, 3, 5, 9]\n",
    "])"
   ]
  },
  {
   "cell_type": "code",
   "execution_count": 258,
   "metadata": {},
   "outputs": [
    {
     "data": {
      "text/plain": [
       "9"
      ]
     },
     "execution_count": 258,
     "metadata": {},
     "output_type": "execute_result"
    }
   ],
   "source": [
    "table.max()"
   ]
  },
  {
   "cell_type": "code",
   "execution_count": 259,
   "metadata": {},
   "outputs": [
    {
     "data": {
      "text/plain": [
       "array([5, 6, 7, 9])"
      ]
     },
     "execution_count": 259,
     "metadata": {},
     "output_type": "execute_result"
    }
   ],
   "source": [
    "table.max(axis=0)"
   ]
  },
  {
   "cell_type": "code",
   "execution_count": 260,
   "metadata": {},
   "outputs": [
    {
     "data": {
      "text/plain": [
       "array([7, 9, 1, 4, 9])"
      ]
     },
     "execution_count": 260,
     "metadata": {},
     "output_type": "execute_result"
    }
   ],
   "source": [
    "table.max(axis=1)"
   ]
  },
  {
   "cell_type": "markdown",
   "metadata": {},
   "source": [
    "<h2>Broadcasting</h2>\n"
   ]
  },
  {
   "cell_type": "code",
   "execution_count": 261,
   "metadata": {},
   "outputs": [
    {
     "name": "stdout",
     "output_type": "stream",
     "text": [
      "3\n"
     ]
    }
   ],
   "source": [
    "A = np.arange(32).reshape(4, 1, 8)\n",
    "print(np.ndim(A))"
   ]
  },
  {
   "cell_type": "code",
   "execution_count": 262,
   "metadata": {},
   "outputs": [
    {
     "data": {
      "text/plain": [
       "array([[[ 0,  1,  2,  3,  4,  5,  6,  7]],\n",
       "\n",
       "       [[ 8,  9, 10, 11, 12, 13, 14, 15]],\n",
       "\n",
       "       [[16, 17, 18, 19, 20, 21, 22, 23]],\n",
       "\n",
       "       [[24, 25, 26, 27, 28, 29, 30, 31]]])"
      ]
     },
     "execution_count": 262,
     "metadata": {},
     "output_type": "execute_result"
    }
   ],
   "source": [
    "A"
   ]
  },
  {
   "cell_type": "code",
   "execution_count": 263,
   "metadata": {},
   "outputs": [],
   "source": [
    "B = np.arange(48).reshape(1, 6, 8)"
   ]
  },
  {
   "cell_type": "code",
   "execution_count": 264,
   "metadata": {},
   "outputs": [
    {
     "data": {
      "text/plain": [
       "array([[[ 0,  1,  2,  3,  4,  5,  6,  7]],\n",
       "\n",
       "       [[ 8,  9, 10, 11, 12, 13, 14, 15]],\n",
       "\n",
       "       [[16, 17, 18, 19, 20, 21, 22, 23]],\n",
       "\n",
       "       [[24, 25, 26, 27, 28, 29, 30, 31]]])"
      ]
     },
     "execution_count": 264,
     "metadata": {},
     "output_type": "execute_result"
    }
   ],
   "source": [
    "A"
   ]
  },
  {
   "cell_type": "code",
   "execution_count": 265,
   "metadata": {},
   "outputs": [
    {
     "data": {
      "text/plain": [
       "array([[[ 0,  1,  2,  3,  4,  5,  6,  7],\n",
       "        [ 8,  9, 10, 11, 12, 13, 14, 15],\n",
       "        [16, 17, 18, 19, 20, 21, 22, 23],\n",
       "        [24, 25, 26, 27, 28, 29, 30, 31],\n",
       "        [32, 33, 34, 35, 36, 37, 38, 39],\n",
       "        [40, 41, 42, 43, 44, 45, 46, 47]]])"
      ]
     },
     "execution_count": 265,
     "metadata": {},
     "output_type": "execute_result"
    }
   ],
   "source": [
    "B"
   ]
  },
  {
   "cell_type": "code",
   "execution_count": 266,
   "metadata": {},
   "outputs": [
    {
     "name": "stdout",
     "output_type": "stream",
     "text": [
      "(4, 1, 8)\n",
      "(1, 6, 8)\n"
     ]
    }
   ],
   "source": [
    "print(A.shape)\n",
    "print(B.shape)"
   ]
  },
  {
   "cell_type": "code",
   "execution_count": 267,
   "metadata": {},
   "outputs": [
    {
     "data": {
      "text/plain": [
       "array([[[ 0,  2,  4,  6,  8, 10, 12, 14],\n",
       "        [ 8, 10, 12, 14, 16, 18, 20, 22],\n",
       "        [16, 18, 20, 22, 24, 26, 28, 30],\n",
       "        [24, 26, 28, 30, 32, 34, 36, 38],\n",
       "        [32, 34, 36, 38, 40, 42, 44, 46],\n",
       "        [40, 42, 44, 46, 48, 50, 52, 54]],\n",
       "\n",
       "       [[ 8, 10, 12, 14, 16, 18, 20, 22],\n",
       "        [16, 18, 20, 22, 24, 26, 28, 30],\n",
       "        [24, 26, 28, 30, 32, 34, 36, 38],\n",
       "        [32, 34, 36, 38, 40, 42, 44, 46],\n",
       "        [40, 42, 44, 46, 48, 50, 52, 54],\n",
       "        [48, 50, 52, 54, 56, 58, 60, 62]],\n",
       "\n",
       "       [[16, 18, 20, 22, 24, 26, 28, 30],\n",
       "        [24, 26, 28, 30, 32, 34, 36, 38],\n",
       "        [32, 34, 36, 38, 40, 42, 44, 46],\n",
       "        [40, 42, 44, 46, 48, 50, 52, 54],\n",
       "        [48, 50, 52, 54, 56, 58, 60, 62],\n",
       "        [56, 58, 60, 62, 64, 66, 68, 70]],\n",
       "\n",
       "       [[24, 26, 28, 30, 32, 34, 36, 38],\n",
       "        [32, 34, 36, 38, 40, 42, 44, 46],\n",
       "        [40, 42, 44, 46, 48, 50, 52, 54],\n",
       "        [48, 50, 52, 54, 56, 58, 60, 62],\n",
       "        [56, 58, 60, 62, 64, 66, 68, 70],\n",
       "        [64, 66, 68, 70, 72, 74, 76, 78]]])"
      ]
     },
     "execution_count": 267,
     "metadata": {},
     "output_type": "execute_result"
    }
   ],
   "source": [
    "A+B"
   ]
  },
  {
   "cell_type": "markdown",
   "metadata": {},
   "source": [
    "<h2>Data Science Operations</h2>\n"
   ]
  },
  {
   "cell_type": "markdown",
   "metadata": {},
   "source": [
    "<h3>Indexing</h3>\n"
   ]
  },
  {
   "cell_type": "code",
   "execution_count": 268,
   "metadata": {},
   "outputs": [],
   "source": [
    "square = np.array([\n",
    "    [16, 3, 2, 13],\n",
    "    [5, 10, 11, 8],\n",
    "    [9, 6, 7, 12],\n",
    "    [4, 15, 14, 1]\n",
    "])"
   ]
  },
  {
   "cell_type": "code",
   "execution_count": 269,
   "metadata": {},
   "outputs": [],
   "source": [
    "for i in range(4):\n",
    "    assert square[:, i].sum() == 34\n",
    "    assert square[i, :].sum() == 34"
   ]
  },
  {
   "cell_type": "code",
   "execution_count": 270,
   "metadata": {},
   "outputs": [],
   "source": [
    "assert square[:2, :2].sum() == 34"
   ]
  },
  {
   "cell_type": "code",
   "execution_count": 271,
   "metadata": {},
   "outputs": [],
   "source": [
    "assert square[2:, :2].sum() == 34"
   ]
  },
  {
   "cell_type": "code",
   "execution_count": 272,
   "metadata": {},
   "outputs": [],
   "source": [
    "assert square[:2, 2:].sum() == 34"
   ]
  },
  {
   "cell_type": "code",
   "execution_count": 273,
   "metadata": {},
   "outputs": [
    {
     "data": {
      "text/plain": [
       "array([[16,  3,  2, 13],\n",
       "       [ 5, 10, 11,  8],\n",
       "       [ 9,  6,  7, 12],\n",
       "       [ 4, 15, 14,  1]])"
      ]
     },
     "execution_count": 273,
     "metadata": {},
     "output_type": "execute_result"
    }
   ],
   "source": [
    "square"
   ]
  },
  {
   "cell_type": "code",
   "execution_count": 274,
   "metadata": {},
   "outputs": [
    {
     "data": {
      "text/plain": [
       "array([[ 2, 13],\n",
       "       [11,  8],\n",
       "       [ 7, 12]])"
      ]
     },
     "execution_count": 274,
     "metadata": {},
     "output_type": "execute_result"
    }
   ],
   "source": [
    "square[:3, 2:]"
   ]
  },
  {
   "cell_type": "code",
   "execution_count": 275,
   "metadata": {},
   "outputs": [
    {
     "data": {
      "text/plain": [
       "array([[ 9,  6],\n",
       "       [ 4, 15]])"
      ]
     },
     "execution_count": 275,
     "metadata": {},
     "output_type": "execute_result"
    }
   ],
   "source": [
    "square[2:, :2]"
   ]
  },
  {
   "cell_type": "code",
   "execution_count": 276,
   "metadata": {},
   "outputs": [],
   "source": [
    "square_2 = np.array([\n",
    "    [16, 3, 2, 13, 10],\n",
    "    [5, 10, 11, 8, 19],\n",
    "    [9, 6, 7, 12, 17],\n",
    "    [4, 15, 14, 1, 74]\n",
    "])"
   ]
  },
  {
   "cell_type": "code",
   "execution_count": 277,
   "metadata": {},
   "outputs": [
    {
     "name": "stdout",
     "output_type": "stream",
     "text": [
      "[[10 11  8]\n",
      " [ 6  7 12]]\n"
     ]
    }
   ],
   "source": [
    "print(square_2[1:3, 1:4])"
   ]
  },
  {
   "cell_type": "code",
   "execution_count": 278,
   "metadata": {},
   "outputs": [
    {
     "name": "stdout",
     "output_type": "stream",
     "text": [
      "[[ 7 12]\n",
      " [14  1]]\n"
     ]
    }
   ],
   "source": [
    "print(square_2[2:, 2:4])"
   ]
  },
  {
   "cell_type": "markdown",
   "metadata": {},
   "source": [
    "<h3>Masking and Filtering</h3>\n"
   ]
  },
  {
   "cell_type": "code",
   "execution_count": 279,
   "metadata": {},
   "outputs": [],
   "source": [
    "numbers = np.linspace(6, 54, 24, dtype=int).reshape(-1, 4)"
   ]
  },
  {
   "cell_type": "code",
   "execution_count": 280,
   "metadata": {},
   "outputs": [
    {
     "data": {
      "text/plain": [
       "array([[ 6,  8, 10, 12],\n",
       "       [14, 16, 18, 20],\n",
       "       [22, 24, 26, 28],\n",
       "       [31, 33, 35, 37],\n",
       "       [39, 41, 43, 45],\n",
       "       [47, 49, 51, 54]])"
      ]
     },
     "execution_count": 280,
     "metadata": {},
     "output_type": "execute_result"
    }
   ],
   "source": [
    "numbers"
   ]
  },
  {
   "cell_type": "code",
   "execution_count": 281,
   "metadata": {},
   "outputs": [],
   "source": [
    "mask = numbers % 6 == 0"
   ]
  },
  {
   "cell_type": "code",
   "execution_count": 282,
   "metadata": {},
   "outputs": [
    {
     "data": {
      "text/plain": [
       "array([[ True, False, False,  True],\n",
       "       [False, False,  True, False],\n",
       "       [False,  True, False, False],\n",
       "       [False, False, False, False],\n",
       "       [False, False, False, False],\n",
       "       [False, False, False,  True]])"
      ]
     },
     "execution_count": 282,
     "metadata": {},
     "output_type": "execute_result"
    }
   ],
   "source": [
    "mask"
   ]
  },
  {
   "cell_type": "code",
   "execution_count": 284,
   "metadata": {},
   "outputs": [],
   "source": [
    "multiple_of_6 = numbers[mask]"
   ]
  },
  {
   "cell_type": "code",
   "execution_count": 285,
   "metadata": {},
   "outputs": [
    {
     "data": {
      "text/plain": [
       "array([ 6, 12, 18, 24, 54])"
      ]
     },
     "execution_count": 285,
     "metadata": {},
     "output_type": "execute_result"
    }
   ],
   "source": [
    "multiple_of_6"
   ]
  },
  {
   "cell_type": "markdown",
   "metadata": {},
   "source": [
    "## Transposing\n"
   ]
  },
  {
   "cell_type": "code",
   "execution_count": 286,
   "metadata": {},
   "outputs": [],
   "source": [
    "a = np.array([\n",
    "    [1, 2],\n",
    "    [3, 4],\n",
    "    [5, 6],\n",
    "])"
   ]
  },
  {
   "cell_type": "code",
   "execution_count": 287,
   "metadata": {},
   "outputs": [
    {
     "data": {
      "text/plain": [
       "array([[1, 3, 5],\n",
       "       [2, 4, 6]])"
      ]
     },
     "execution_count": 287,
     "metadata": {},
     "output_type": "execute_result"
    }
   ],
   "source": [
    "a.T"
   ]
  },
  {
   "cell_type": "markdown",
   "metadata": {},
   "source": [
    "## Concat\n"
   ]
  },
  {
   "cell_type": "code",
   "execution_count": 289,
   "metadata": {},
   "outputs": [],
   "source": [
    "a = np.array([\n",
    "    [4, 8],\n",
    "    [6, 1]\n",
    "])"
   ]
  },
  {
   "cell_type": "code",
   "execution_count": 288,
   "metadata": {},
   "outputs": [],
   "source": [
    "b = np.array([\n",
    "    [3, 5],\n",
    "    [7, 2],\n",
    "])"
   ]
  },
  {
   "cell_type": "code",
   "execution_count": 290,
   "metadata": {},
   "outputs": [
    {
     "data": {
      "text/plain": [
       "array([[4, 8, 3, 5],\n",
       "       [6, 1, 7, 2]])"
      ]
     },
     "execution_count": 290,
     "metadata": {},
     "output_type": "execute_result"
    }
   ],
   "source": [
    "np.hstack((a, b))"
   ]
  },
  {
   "cell_type": "code",
   "execution_count": 291,
   "metadata": {},
   "outputs": [
    {
     "data": {
      "text/plain": [
       "array([[3, 5],\n",
       "       [7, 2],\n",
       "       [4, 8],\n",
       "       [6, 1]])"
      ]
     },
     "execution_count": 291,
     "metadata": {},
     "output_type": "execute_result"
    }
   ],
   "source": [
    "np.vstack((b, a))"
   ]
  },
  {
   "cell_type": "code",
   "execution_count": 292,
   "metadata": {},
   "outputs": [
    {
     "data": {
      "text/plain": [
       "array([[4, 8],\n",
       "       [6, 1],\n",
       "       [3, 5],\n",
       "       [7, 2]])"
      ]
     },
     "execution_count": 292,
     "metadata": {},
     "output_type": "execute_result"
    }
   ],
   "source": [
    "np.concatenate((a, b))"
   ]
  },
  {
   "cell_type": "code",
   "execution_count": 293,
   "metadata": {},
   "outputs": [
    {
     "data": {
      "text/plain": [
       "array([4, 8, 6, 1, 3, 5, 7, 2])"
      ]
     },
     "execution_count": 293,
     "metadata": {},
     "output_type": "execute_result"
    }
   ],
   "source": [
    "np.concatenate((a, b), axis=None)"
   ]
  },
  {
   "cell_type": "markdown",
   "metadata": {},
   "source": [
    "## Sort\n"
   ]
  },
  {
   "cell_type": "code",
   "execution_count": 294,
   "metadata": {},
   "outputs": [],
   "source": [
    "data = np.array([\n",
    "    [7, 1, 4],\n",
    "    [8, 6, 5],\n",
    "    [1, 2, 3]\n",
    "])"
   ]
  },
  {
   "cell_type": "code",
   "execution_count": 295,
   "metadata": {},
   "outputs": [
    {
     "data": {
      "text/plain": [
       "array([[1, 4, 7],\n",
       "       [5, 6, 8],\n",
       "       [1, 2, 3]])"
      ]
     },
     "execution_count": 295,
     "metadata": {},
     "output_type": "execute_result"
    }
   ],
   "source": [
    "np.sort(data)"
   ]
  },
  {
   "cell_type": "code",
   "execution_count": 296,
   "metadata": {},
   "outputs": [
    {
     "data": {
      "text/plain": [
       "array([1, 1, 2, 3, 4, 5, 6, 7, 8])"
      ]
     },
     "execution_count": 296,
     "metadata": {},
     "output_type": "execute_result"
    }
   ],
   "source": [
    "np.sort(data, axis=None)"
   ]
  },
  {
   "cell_type": "code",
   "execution_count": 301,
   "metadata": {},
   "outputs": [
    {
     "data": {
      "text/plain": [
       "array([[1, 4, 7],\n",
       "       [5, 6, 8],\n",
       "       [1, 2, 3]])"
      ]
     },
     "execution_count": 301,
     "metadata": {},
     "output_type": "execute_result"
    }
   ],
   "source": [
    "np.sort(data, axis=1)"
   ]
  },
  {
   "cell_type": "code",
   "execution_count": 298,
   "metadata": {},
   "outputs": [
    {
     "data": {
      "text/plain": [
       "array([[7, 1, 4],\n",
       "       [8, 6, 5],\n",
       "       [1, 2, 3]])"
      ]
     },
     "execution_count": 298,
     "metadata": {},
     "output_type": "execute_result"
    }
   ],
   "source": [
    "data"
   ]
  },
  {
   "cell_type": "code",
   "execution_count": 303,
   "metadata": {},
   "outputs": [
    {
     "data": {
      "text/plain": [
       "array([[1, 1, 3],\n",
       "       [7, 2, 4],\n",
       "       [8, 6, 5]])"
      ]
     },
     "execution_count": 303,
     "metadata": {},
     "output_type": "execute_result"
    }
   ],
   "source": [
    "np.sort(data, axis=0)"
   ]
  },
  {
   "cell_type": "markdown",
   "metadata": {},
   "source": [
    "# Implementation\n"
   ]
  },
  {
   "cell_type": "code",
   "execution_count": 304,
   "metadata": {},
   "outputs": [
    {
     "name": "stdout",
     "output_type": "stream",
     "text": [
      "Actual: 20.085536923187664\n",
      "N (terms)\tMaclaurin\tError\n",
      "1\t\t1.000\t\t19.086\n",
      "2\t\t4.000\t\t16.086\n",
      "3\t\t8.500\t\t11.586\n",
      "4\t\t13.000\t\t7.086\n",
      "5\t\t16.375\t\t3.711\n",
      "6\t\t18.400\t\t1.686\n",
      "7\t\t19.412\t\t0.673\n",
      "8\t\t19.846\t\t0.239\n",
      "9\t\t20.009\t\t0.076\n",
      "10\t\t20.063\t\t0.022\n",
      "11\t\t20.080\t\t0.006\n",
      "12\t\t20.084\t\t0.001\n",
      "13\t\t20.085\t\t0.000\n"
     ]
    }
   ],
   "source": [
    "from math import e, factorial\n",
    "\n",
    "import numpy as np\n",
    "\n",
    "fac = np.vectorize(factorial)\n",
    "\n",
    "\n",
    "def e_x(x, terms=10):\n",
    "    \"\"\"Approximates e^x using a given number of terms of\n",
    "    the Maclaurin series\n",
    "    \"\"\"\n",
    "    n = np.arange(terms)\n",
    "    return np.sum((x ** n) / fac(n))\n",
    "\n",
    "\n",
    "if __name__ == \"__main__\":\n",
    "    print(\"Actual:\", e ** 3)  # Using e from the standard library\n",
    "\n",
    "    print(\"N (terms)\\tMaclaurin\\tError\")\n",
    "\n",
    "    for n in range(1, 14):\n",
    "        maclaurin = e_x(3, terms=n)\n",
    "        print(f\"{n}\\t\\t{maclaurin:.03f}\\t\\t{e**3 - maclaurin:.03f}\")"
   ]
  },
  {
   "cell_type": "code",
   "execution_count": 311,
   "metadata": {},
   "outputs": [],
   "source": [
    "import concurrent.futures\n",
    "from threading import Lock\n",
    "\n",
    "\n",
    "class Foo:\n",
    "    def __init__(self):\n",
    "        self.locks = (Lock(), Lock())\n",
    "        self.locks[0].acquire()\n",
    "        self.locks[1].acquire()\n",
    "\n",
    "    def first(self, printFirst: 'Callable[[], None]') -> None:\n",
    "        # printFirst() outputs \"first\". Do not change or remove this line.\n",
    "        printFirst()\n",
    "        self.locks[0].release()\n",
    "\n",
    "    def second(self, printSecond: 'Callable[[], None]') -> None:\n",
    "        with self.locks[0]:\n",
    "            # printFirst() outputs \"first\". Do not change or remove this line.\n",
    "            printSecond()\n",
    "            self.locks[1].release()\n",
    "        # printSecond() outputs \"second\". Do not change or remove this line.\n",
    "\n",
    "    def third(self, printThird: 'Callable[[], None]') -> None:\n",
    "        with self.locks[1]:\n",
    "            # printThird() outputs \"third\". Do not change or remove this line.\n",
    "            printThird()\n",
    "\n",
    "\n",
    "num = [1, 2, 3]\n",
    "with concurrent.futures.ThreadPoolExecutor(max_workers=None) as Executor:\n",
    "    thread_1 = Executor.map()"
   ]
  },
  {
   "cell_type": "code",
   "execution_count": null,
   "metadata": {},
   "outputs": [],
   "source": [
    "from threading import Lock\n",
    "from concurrent.futures import ThreadPoolExecutor\n",
    "class FooBar:\n",
    "    def __init__(self, n):\n",
    "        self.n = n\n",
    "        self.locks=(Lock(),Lock(),Lock())\n",
    "        self.locks[0].acquire()\n",
    "        self.locks[1].acquire()\n",
    "\n",
    "\n",
    "\n",
    "    def foo(self) -> None:\n",
    "        for i in range(self.n):\n",
    "            with self.locks[2]:\n",
    "            # printFoo() outputs \"foo\". Do not change or remove this line.\n",
    "                print(\"Foo\")\n",
    "                self.locks[0].release()\n",
    "\n",
    "\n",
    "\n",
    "    def bar(self) -> None:\n",
    "        for i in range(self.n):\n",
    "            with self.locks[0]:\n",
    "            # printBar() outputs \"bar\". Do not change or remove this line.\n",
    "                self.locks[0].acquire()\n",
    "                with self.locks[2]:\n",
    "                    print(\"Bar\")\n",
    "                    self.locks[1].release()\n",
    "\n",
    "object_foo_bar=FooBar(3)\n",
    "with ThreadPoolExecutor(max_workers=None) as Executor:\n",
    "    thread_foo=Executor.submit(FooBar.foo(object_foo_bar))\n",
    "    thread_bar=Executor.submit(FooBar.bar(object_foo_bar))"
   ]
  },
  {
   "cell_type": "code",
   "execution_count": 2,
   "metadata": {},
   "outputs": [
    {
     "name": "stdout",
     "output_type": "stream",
     "text": [
      "Foo\n",
      "Bar\n",
      "Bar\n",
      "Foo\n",
      "Bar\n",
      "Foo\n"
     ]
    }
   ],
   "source": [
    "from threading import Lock\n",
    "from threading import Barrier\n",
    "from concurrent.futures import ThreadPoolExecutor\n",
    "\n",
    "class FooBar:\n",
    "    def __init__(self, n):\n",
    "        self.n = n\n",
    "        self.locks = (Lock(), Lock(), Lock())\n",
    "        self.locks[0].acquire()\n",
    "        self.locks[1].acquire()\n",
    "        self.barrier=Barrier(2)\n",
    "\n",
    "    def foo(self) -> None:\n",
    "        for i in range(self.n):\n",
    "            print(\"Foo\")\n",
    "            self.barrier.wait()\n",
    "\n",
    "    def bar(self) -> None:\n",
    "        for i in range(self.n):\n",
    "            print(\"Bar\")\n",
    "            self.barrier.wait()\n",
    "\n",
    "object_foo_bar = FooBar(3)\n",
    "\n",
    "with ThreadPoolExecutor(max_workers=None) as executor:\n",
    "    thread_foo = executor.submit(object_foo_bar.foo)\n",
    "    thread_bar = executor.submit(object_foo_bar.bar)\n",
    "\n",
    "# Wait for threads to finish\n",
    "thread_foo.result()\n",
    "thread_bar.result()\n"
   ]
  },
  {
   "cell_type": "code",
   "execution_count": 33,
   "metadata": {},
   "outputs": [],
   "source": [
    "import numpy as np\n",
    "list_num=np.array([2,4,8])"
   ]
  },
  {
   "cell_type": "code",
   "execution_count": 36,
   "metadata": {},
   "outputs": [
    {
     "name": "stdout",
     "output_type": "stream",
     "text": [
      "14\n"
     ]
    }
   ],
   "source": [
    "print(list_num)\n",
    "    \n"
   ]
  },
  {
   "cell_type": "code",
   "execution_count": 3,
   "metadata": {},
   "outputs": [],
   "source": [
    "import numpy as np\n",
    "\n",
    "N, M = list(map(int, input().split()))\n",
    "\n",
    "print(N, M)"
   ]
  },
  {
   "cell_type": "code",
   "execution_count": null,
   "metadata": {},
   "outputs": [],
   "source": [
    "import numpy as np\n",
    "\n",
    "N, M = list(map(int, input().split()))\n",
    "\n",
    "\n",
    "array_np=np.array([input().split() for _ in range(N)], dtype=int)\n",
    "\n",
    "print(array_np.T)\n",
    "print(array_np.flatten())"
   ]
  },
  {
   "cell_type": "code",
   "execution_count": 2,
   "metadata": {},
   "outputs": [],
   "source": [
    "import numpy as np\n",
    "data = np.array([\n",
    "    (\"joe\", 32, 6),\n",
    "    (\"mary\", 15, 20),\n",
    "    (\"felipe\", 80, 100),\n",
    "    (\"beyonce\", 38, 9001),\n",
    "], dtype=[(\"name\", str, 10), (\"age\", int), (\"power\", int)])"
   ]
  },
  {
   "cell_type": "code",
   "execution_count": 3,
   "metadata": {},
   "outputs": [
    {
     "data": {
      "text/plain": [
       "('joe', 32, 6)"
      ]
     },
     "execution_count": 3,
     "metadata": {},
     "output_type": "execute_result"
    }
   ],
   "source": [
    "data[0]"
   ]
  }
 ],
 "metadata": {
  "kernelspec": {
   "display_name": ".venv",
   "language": "python",
   "name": "python3"
  },
  "language_info": {
   "codemirror_mode": {
    "name": "ipython",
    "version": 3
   },
   "file_extension": ".py",
   "mimetype": "text/x-python",
   "name": "python",
   "nbconvert_exporter": "python",
   "pygments_lexer": "ipython3",
   "version": "3.11.6"
  }
 },
 "nbformat": 4,
 "nbformat_minor": 2
}
